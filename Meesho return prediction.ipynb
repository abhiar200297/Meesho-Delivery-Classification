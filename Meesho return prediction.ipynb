{
 "cells": [
  {
   "cell_type": "markdown",
   "id": "f462d2d1",
   "metadata": {},
   "source": [
    "# Problem \n",
    "A businessman selling his products on Meesho. Many times products get returned by the customer and most of the time products are mismatched from the original or some kind of fraud happens with the seller. In this case the seller lost his many products. If return is genuine then also he loses the packaging cost and courier cost.  Seller wants a model that predicts that order will deliver to the customer or return back. This model will work as an alert alarm for him. He also wants to know that from which state he is getting more orders and which gender is giving more orders. \n",
    "By doing EDA and making model i will try to help him in his business."
   ]
  },
  {
   "cell_type": "code",
   "execution_count": 1,
   "id": "d375aae1",
   "metadata": {},
   "outputs": [],
   "source": [
    "# Importing all the relevant libraries.\n",
    "import pandas as pd\n",
    "import numpy as np\n",
    "import matplotlib.pyplot as plt\n",
    "import seaborn as sns\n",
    "import plotly.express as px\n",
    "from sklearn.preprocessing import LabelEncoder\n",
    "from sklearn.model_selection import train_test_split\n",
    "from sklearn.ensemble import RandomForestClassifier\n",
    "from sklearn.model_selection import GridSearchCV\n",
    "from sklearn.model_selection import KFold\n",
    "from sklearn.model_selection import cross_val_score\n",
    "from sklearn.metrics import classification_report\n",
    "from sklearn.preprocessing import StandardScaler\n",
    "from sklearn.linear_model import LogisticRegression\n",
    "from sklearn.svm import SVC"
   ]
  },
  {
   "cell_type": "code",
   "execution_count": 2,
   "id": "af01acb2",
   "metadata": {},
   "outputs": [
    {
     "data": {
      "text/html": [
       "<div>\n",
       "<style scoped>\n",
       "    .dataframe tbody tr th:only-of-type {\n",
       "        vertical-align: middle;\n",
       "    }\n",
       "\n",
       "    .dataframe tbody tr th {\n",
       "        vertical-align: top;\n",
       "    }\n",
       "\n",
       "    .dataframe thead th {\n",
       "        text-align: right;\n",
       "    }\n",
       "</style>\n",
       "<table border=\"1\" class=\"dataframe\">\n",
       "  <thead>\n",
       "    <tr style=\"text-align: right;\">\n",
       "      <th></th>\n",
       "      <th>Type</th>\n",
       "      <th>Reason for Credit Entry</th>\n",
       "      <th>Sub Order No</th>\n",
       "      <th>Order Verification Date</th>\n",
       "      <th>Order Date</th>\n",
       "      <th>Gender</th>\n",
       "      <th>Cust address</th>\n",
       "      <th>Reseller State</th>\n",
       "      <th>Product Name</th>\n",
       "      <th>SKU</th>\n",
       "      <th>...</th>\n",
       "      <th>Total Meesho commission (Incl. GST)</th>\n",
       "      <th>GST on Total Meesho Commission</th>\n",
       "      <th>Delivery Charge(excl Gst)</th>\n",
       "      <th>GST on delivery charges</th>\n",
       "      <th>Supplier State</th>\n",
       "      <th>TCS (IGST)</th>\n",
       "      <th>TCS (0.5% CGST+0.5% SGST)</th>\n",
       "      <th>Settlement Amount to Supplier</th>\n",
       "      <th>Invoice Download Link</th>\n",
       "      <th>CN Download Link</th>\n",
       "    </tr>\n",
       "  </thead>\n",
       "  <tbody>\n",
       "    <tr>\n",
       "      <th>0</th>\n",
       "      <td>NaN</td>\n",
       "      <td>NaN</td>\n",
       "      <td>NaN</td>\n",
       "      <td>NaN</td>\n",
       "      <td>NaN</td>\n",
       "      <td>NaN</td>\n",
       "      <td>NaN</td>\n",
       "      <td>NaN</td>\n",
       "      <td>NaN</td>\n",
       "      <td>NaN</td>\n",
       "      <td>...</td>\n",
       "      <td>C</td>\n",
       "      <td>D</td>\n",
       "      <td>E</td>\n",
       "      <td>F</td>\n",
       "      <td>NaN</td>\n",
       "      <td>I</td>\n",
       "      <td>J</td>\n",
       "      <td>A+B-C-D-E-F-G-H-I-J</td>\n",
       "      <td>NaN</td>\n",
       "      <td>NaN</td>\n",
       "    </tr>\n",
       "    <tr>\n",
       "      <th>1</th>\n",
       "      <td>Invoice</td>\n",
       "      <td>Delivered</td>\n",
       "      <td>62397302801_1</td>\n",
       "      <td>31 Jan, 2022</td>\n",
       "      <td>31 Jan, 2022</td>\n",
       "      <td>Male</td>\n",
       "      <td>23/12, Karumaariyamman Nagar 5th Street, Chenn...</td>\n",
       "      <td>Tamil Nadu</td>\n",
       "      <td>Graceful Mosquito Nets</td>\n",
       "      <td>BRIJ KISHORE ENTERPRISES 077/ WHITE PRINT 7 X8</td>\n",
       "      <td>...</td>\n",
       "      <td>0</td>\n",
       "      <td>0</td>\n",
       "      <td>80.95</td>\n",
       "      <td>14.57</td>\n",
       "      <td>Bihar</td>\n",
       "      <td>4.08</td>\n",
       "      <td>0</td>\n",
       "      <td>328.4</td>\n",
       "      <td>https://s3-ap-southeast-1.amazonaws.com/meesho...</td>\n",
       "      <td>NaN</td>\n",
       "    </tr>\n",
       "    <tr>\n",
       "      <th>2</th>\n",
       "      <td>Invoice</td>\n",
       "      <td>Delivered</td>\n",
       "      <td>15394289172_1</td>\n",
       "      <td>31 Jan, 2022</td>\n",
       "      <td>31 Jan, 2022</td>\n",
       "      <td>Male</td>\n",
       "      <td>bangareddy palli, bangareddy palle village ,di...</td>\n",
       "      <td>Andhra Pradesh</td>\n",
       "      <td>Graceful Mosquito Nets</td>\n",
       "      <td>BRIJ KISHORE ENTERPRISES 077/ WHITE PRINT 7 X8</td>\n",
       "      <td>...</td>\n",
       "      <td>0</td>\n",
       "      <td>0</td>\n",
       "      <td>80.95</td>\n",
       "      <td>14.57</td>\n",
       "      <td>Bihar</td>\n",
       "      <td>4.08</td>\n",
       "      <td>0</td>\n",
       "      <td>328.4</td>\n",
       "      <td>https://s3-ap-southeast-1.amazonaws.com/meesho...</td>\n",
       "      <td>NaN</td>\n",
       "    </tr>\n",
       "    <tr>\n",
       "      <th>3</th>\n",
       "      <td>Invoice</td>\n",
       "      <td>Delivered</td>\n",
       "      <td>44211523410_1</td>\n",
       "      <td>31 Jan, 2022</td>\n",
       "      <td>31 Jan, 2022</td>\n",
       "      <td>Male</td>\n",
       "      <td>Rajiv Gandhi centre for aquaculture , Govt.of ...</td>\n",
       "      <td>Tamil Nadu</td>\n",
       "      <td>Classic Mosquito Nets</td>\n",
       "      <td>BRIJ KISHORE ENTERPRISES , KING ( 7 FT X8 FT )...</td>\n",
       "      <td>...</td>\n",
       "      <td>0</td>\n",
       "      <td>0</td>\n",
       "      <td>80.95</td>\n",
       "      <td>14.57</td>\n",
       "      <td>Bihar</td>\n",
       "      <td>3.85</td>\n",
       "      <td>0</td>\n",
       "      <td>304.63</td>\n",
       "      <td>https://s3-ap-southeast-1.amazonaws.com/meesho...</td>\n",
       "      <td>NaN</td>\n",
       "    </tr>\n",
       "    <tr>\n",
       "      <th>4</th>\n",
       "      <td>Invoice</td>\n",
       "      <td>Delivered</td>\n",
       "      <td>49046876405_1</td>\n",
       "      <td>31 Jan, 2022</td>\n",
       "      <td>31 Jan, 2022</td>\n",
       "      <td>Male</td>\n",
       "      <td>Ranaghat Kalaighata mathpara kali temple, Rana...</td>\n",
       "      <td>West Bengal</td>\n",
       "      <td>V-Guard VIH - 101 1000 W Immersion Heater Rod ...</td>\n",
       "      <td>V-Guard VIH - 101 1000 W Immersion Heater Rod ...</td>\n",
       "      <td>...</td>\n",
       "      <td>0</td>\n",
       "      <td>0</td>\n",
       "      <td>61.86</td>\n",
       "      <td>11.13</td>\n",
       "      <td>Bihar</td>\n",
       "      <td>4.58</td>\n",
       "      <td>0</td>\n",
       "      <td>463.43</td>\n",
       "      <td>https://s3-ap-southeast-1.amazonaws.com/meesho...</td>\n",
       "      <td>NaN</td>\n",
       "    </tr>\n",
       "  </tbody>\n",
       "</table>\n",
       "<p>5 rows × 32 columns</p>\n",
       "</div>"
      ],
      "text/plain": [
       "      Type Reason for Credit Entry   Sub Order No Order Verification Date  \\\n",
       "0      NaN                     NaN            NaN                     NaN   \n",
       "1  Invoice               Delivered  62397302801_1            31 Jan, 2022   \n",
       "2  Invoice               Delivered  15394289172_1            31 Jan, 2022   \n",
       "3  Invoice               Delivered  44211523410_1            31 Jan, 2022   \n",
       "4  Invoice               Delivered  49046876405_1            31 Jan, 2022   \n",
       "\n",
       "     Order Date Gender                                       Cust address  \\\n",
       "0           NaN    NaN                                                NaN   \n",
       "1  31 Jan, 2022   Male  23/12, Karumaariyamman Nagar 5th Street, Chenn...   \n",
       "2  31 Jan, 2022   Male  bangareddy palli, bangareddy palle village ,di...   \n",
       "3  31 Jan, 2022   Male  Rajiv Gandhi centre for aquaculture , Govt.of ...   \n",
       "4  31 Jan, 2022   Male  Ranaghat Kalaighata mathpara kali temple, Rana...   \n",
       "\n",
       "   Reseller State                                       Product Name  \\\n",
       "0             NaN                                                NaN   \n",
       "1      Tamil Nadu                             Graceful Mosquito Nets   \n",
       "2  Andhra Pradesh                             Graceful Mosquito Nets   \n",
       "3      Tamil Nadu                              Classic Mosquito Nets   \n",
       "4     West Bengal  V-Guard VIH - 101 1000 W Immersion Heater Rod ...   \n",
       "\n",
       "                                                 SKU  ...  \\\n",
       "0                                                NaN  ...   \n",
       "1    BRIJ KISHORE ENTERPRISES 077/ WHITE PRINT 7 X8   ...   \n",
       "2    BRIJ KISHORE ENTERPRISES 077/ WHITE PRINT 7 X8   ...   \n",
       "3  BRIJ KISHORE ENTERPRISES , KING ( 7 FT X8 FT )...  ...   \n",
       "4  V-Guard VIH - 101 1000 W Immersion Heater Rod ...  ...   \n",
       "\n",
       "  Total Meesho commission (Incl. GST)  GST on Total Meesho Commission  \\\n",
       "0                                   C                               D   \n",
       "1                                   0                               0   \n",
       "2                                   0                               0   \n",
       "3                                   0                               0   \n",
       "4                                   0                               0   \n",
       "\n",
       "  Delivery Charge(excl Gst) GST on delivery charges Supplier State TCS (IGST)  \\\n",
       "0                         E                       F            NaN          I   \n",
       "1                     80.95                   14.57          Bihar       4.08   \n",
       "2                     80.95                   14.57          Bihar       4.08   \n",
       "3                     80.95                   14.57          Bihar       3.85   \n",
       "4                     61.86                   11.13          Bihar       4.58   \n",
       "\n",
       "  TCS (0.5% CGST+0.5% SGST) Settlement Amount to Supplier  \\\n",
       "0                         J           A+B-C-D-E-F-G-H-I-J   \n",
       "1                         0                         328.4   \n",
       "2                         0                         328.4   \n",
       "3                         0                        304.63   \n",
       "4                         0                        463.43   \n",
       "\n",
       "                               Invoice Download Link CN Download Link  \n",
       "0                                                NaN              NaN  \n",
       "1  https://s3-ap-southeast-1.amazonaws.com/meesho...              NaN  \n",
       "2  https://s3-ap-southeast-1.amazonaws.com/meesho...              NaN  \n",
       "3  https://s3-ap-southeast-1.amazonaws.com/meesho...              NaN  \n",
       "4  https://s3-ap-southeast-1.amazonaws.com/meesho...              NaN  \n",
       "\n",
       "[5 rows x 32 columns]"
      ]
     },
     "execution_count": 2,
     "metadata": {},
     "output_type": "execute_result"
    }
   ],
   "source": [
    "# Importing and showing dataset.\n",
    "df = pd.read_csv('Meesho dataset.csv',skiprows=1)\n",
    "df.head()"
   ]
  },
  {
   "cell_type": "code",
   "execution_count": 3,
   "id": "20f26d5c",
   "metadata": {},
   "outputs": [
    {
     "data": {
      "text/html": [
       "<div>\n",
       "<style scoped>\n",
       "    .dataframe tbody tr th:only-of-type {\n",
       "        vertical-align: middle;\n",
       "    }\n",
       "\n",
       "    .dataframe tbody tr th {\n",
       "        vertical-align: top;\n",
       "    }\n",
       "\n",
       "    .dataframe thead th {\n",
       "        text-align: right;\n",
       "    }\n",
       "</style>\n",
       "<table border=\"1\" class=\"dataframe\">\n",
       "  <thead>\n",
       "    <tr style=\"text-align: right;\">\n",
       "      <th></th>\n",
       "      <th>Type</th>\n",
       "      <th>Reason for Credit Entry</th>\n",
       "      <th>Sub Order No</th>\n",
       "      <th>Order Verification Date</th>\n",
       "      <th>Order Date</th>\n",
       "      <th>Gender</th>\n",
       "      <th>Cust address</th>\n",
       "      <th>Reseller State</th>\n",
       "      <th>Product Name</th>\n",
       "      <th>SKU</th>\n",
       "      <th>...</th>\n",
       "      <th>Total Meesho commission (Incl. GST)</th>\n",
       "      <th>GST on Total Meesho Commission</th>\n",
       "      <th>Delivery Charge(excl Gst)</th>\n",
       "      <th>GST on delivery charges</th>\n",
       "      <th>Supplier State</th>\n",
       "      <th>TCS (IGST)</th>\n",
       "      <th>TCS (0.5% CGST+0.5% SGST)</th>\n",
       "      <th>Settlement Amount to Supplier</th>\n",
       "      <th>Invoice Download Link</th>\n",
       "      <th>CN Download Link</th>\n",
       "    </tr>\n",
       "  </thead>\n",
       "  <tbody>\n",
       "    <tr>\n",
       "      <th>1</th>\n",
       "      <td>Invoice</td>\n",
       "      <td>Delivered</td>\n",
       "      <td>62397302801_1</td>\n",
       "      <td>31 Jan, 2022</td>\n",
       "      <td>31 Jan, 2022</td>\n",
       "      <td>Male</td>\n",
       "      <td>23/12, Karumaariyamman Nagar 5th Street, Chenn...</td>\n",
       "      <td>Tamil Nadu</td>\n",
       "      <td>Graceful Mosquito Nets</td>\n",
       "      <td>BRIJ KISHORE ENTERPRISES 077/ WHITE PRINT 7 X8</td>\n",
       "      <td>...</td>\n",
       "      <td>0</td>\n",
       "      <td>0</td>\n",
       "      <td>80.95</td>\n",
       "      <td>14.57</td>\n",
       "      <td>Bihar</td>\n",
       "      <td>4.08</td>\n",
       "      <td>0</td>\n",
       "      <td>328.4</td>\n",
       "      <td>https://s3-ap-southeast-1.amazonaws.com/meesho...</td>\n",
       "      <td>NaN</td>\n",
       "    </tr>\n",
       "    <tr>\n",
       "      <th>2</th>\n",
       "      <td>Invoice</td>\n",
       "      <td>Delivered</td>\n",
       "      <td>15394289172_1</td>\n",
       "      <td>31 Jan, 2022</td>\n",
       "      <td>31 Jan, 2022</td>\n",
       "      <td>Male</td>\n",
       "      <td>bangareddy palli, bangareddy palle village ,di...</td>\n",
       "      <td>Andhra Pradesh</td>\n",
       "      <td>Graceful Mosquito Nets</td>\n",
       "      <td>BRIJ KISHORE ENTERPRISES 077/ WHITE PRINT 7 X8</td>\n",
       "      <td>...</td>\n",
       "      <td>0</td>\n",
       "      <td>0</td>\n",
       "      <td>80.95</td>\n",
       "      <td>14.57</td>\n",
       "      <td>Bihar</td>\n",
       "      <td>4.08</td>\n",
       "      <td>0</td>\n",
       "      <td>328.4</td>\n",
       "      <td>https://s3-ap-southeast-1.amazonaws.com/meesho...</td>\n",
       "      <td>NaN</td>\n",
       "    </tr>\n",
       "    <tr>\n",
       "      <th>3</th>\n",
       "      <td>Invoice</td>\n",
       "      <td>Delivered</td>\n",
       "      <td>44211523410_1</td>\n",
       "      <td>31 Jan, 2022</td>\n",
       "      <td>31 Jan, 2022</td>\n",
       "      <td>Male</td>\n",
       "      <td>Rajiv Gandhi centre for aquaculture , Govt.of ...</td>\n",
       "      <td>Tamil Nadu</td>\n",
       "      <td>Classic Mosquito Nets</td>\n",
       "      <td>BRIJ KISHORE ENTERPRISES , KING ( 7 FT X8 FT )...</td>\n",
       "      <td>...</td>\n",
       "      <td>0</td>\n",
       "      <td>0</td>\n",
       "      <td>80.95</td>\n",
       "      <td>14.57</td>\n",
       "      <td>Bihar</td>\n",
       "      <td>3.85</td>\n",
       "      <td>0</td>\n",
       "      <td>304.63</td>\n",
       "      <td>https://s3-ap-southeast-1.amazonaws.com/meesho...</td>\n",
       "      <td>NaN</td>\n",
       "    </tr>\n",
       "    <tr>\n",
       "      <th>4</th>\n",
       "      <td>Invoice</td>\n",
       "      <td>Delivered</td>\n",
       "      <td>49046876405_1</td>\n",
       "      <td>31 Jan, 2022</td>\n",
       "      <td>31 Jan, 2022</td>\n",
       "      <td>Male</td>\n",
       "      <td>Ranaghat Kalaighata mathpara kali temple, Rana...</td>\n",
       "      <td>West Bengal</td>\n",
       "      <td>V-Guard VIH - 101 1000 W Immersion Heater Rod ...</td>\n",
       "      <td>V-Guard VIH - 101 1000 W Immersion Heater Rod ...</td>\n",
       "      <td>...</td>\n",
       "      <td>0</td>\n",
       "      <td>0</td>\n",
       "      <td>61.86</td>\n",
       "      <td>11.13</td>\n",
       "      <td>Bihar</td>\n",
       "      <td>4.58</td>\n",
       "      <td>0</td>\n",
       "      <td>463.43</td>\n",
       "      <td>https://s3-ap-southeast-1.amazonaws.com/meesho...</td>\n",
       "      <td>NaN</td>\n",
       "    </tr>\n",
       "    <tr>\n",
       "      <th>5</th>\n",
       "      <td>Invoice</td>\n",
       "      <td>Return</td>\n",
       "      <td>76895072790_1</td>\n",
       "      <td>31 Jan, 2022</td>\n",
       "      <td>31 Jan, 2022</td>\n",
       "      <td>Female</td>\n",
       "      <td>J 18076, 14th Avenue,, Gaur city 2, Greater No...</td>\n",
       "      <td>Uttar Pradesh</td>\n",
       "      <td>BRIJ KISHORE ENTERPRISES FLORAL FLEECE BLANKET .</td>\n",
       "      <td>BRIJ KISHORE ENTERPRISES FLORAL FLEECE BLANKET...</td>\n",
       "      <td>...</td>\n",
       "      <td>0</td>\n",
       "      <td>0</td>\n",
       "      <td>118.1</td>\n",
       "      <td>21.26</td>\n",
       "      <td>Bihar</td>\n",
       "      <td>5.28</td>\n",
       "      <td>0</td>\n",
       "      <td>409.36</td>\n",
       "      <td>https://s3-ap-southeast-1.amazonaws.com/meesho...</td>\n",
       "      <td>NaN</td>\n",
       "    </tr>\n",
       "  </tbody>\n",
       "</table>\n",
       "<p>5 rows × 32 columns</p>\n",
       "</div>"
      ],
      "text/plain": [
       "      Type Reason for Credit Entry   Sub Order No Order Verification Date  \\\n",
       "1  Invoice               Delivered  62397302801_1            31 Jan, 2022   \n",
       "2  Invoice               Delivered  15394289172_1            31 Jan, 2022   \n",
       "3  Invoice               Delivered  44211523410_1            31 Jan, 2022   \n",
       "4  Invoice               Delivered  49046876405_1            31 Jan, 2022   \n",
       "5  Invoice                  Return  76895072790_1            31 Jan, 2022   \n",
       "\n",
       "     Order Date  Gender                                       Cust address  \\\n",
       "1  31 Jan, 2022    Male  23/12, Karumaariyamman Nagar 5th Street, Chenn...   \n",
       "2  31 Jan, 2022    Male  bangareddy palli, bangareddy palle village ,di...   \n",
       "3  31 Jan, 2022    Male  Rajiv Gandhi centre for aquaculture , Govt.of ...   \n",
       "4  31 Jan, 2022    Male  Ranaghat Kalaighata mathpara kali temple, Rana...   \n",
       "5  31 Jan, 2022  Female  J 18076, 14th Avenue,, Gaur city 2, Greater No...   \n",
       "\n",
       "   Reseller State                                       Product Name  \\\n",
       "1      Tamil Nadu                             Graceful Mosquito Nets   \n",
       "2  Andhra Pradesh                             Graceful Mosquito Nets   \n",
       "3      Tamil Nadu                              Classic Mosquito Nets   \n",
       "4     West Bengal  V-Guard VIH - 101 1000 W Immersion Heater Rod ...   \n",
       "5   Uttar Pradesh   BRIJ KISHORE ENTERPRISES FLORAL FLEECE BLANKET .   \n",
       "\n",
       "                                                 SKU  ...  \\\n",
       "1    BRIJ KISHORE ENTERPRISES 077/ WHITE PRINT 7 X8   ...   \n",
       "2    BRIJ KISHORE ENTERPRISES 077/ WHITE PRINT 7 X8   ...   \n",
       "3  BRIJ KISHORE ENTERPRISES , KING ( 7 FT X8 FT )...  ...   \n",
       "4  V-Guard VIH - 101 1000 W Immersion Heater Rod ...  ...   \n",
       "5  BRIJ KISHORE ENTERPRISES FLORAL FLEECE BLANKET...  ...   \n",
       "\n",
       "  Total Meesho commission (Incl. GST)  GST on Total Meesho Commission  \\\n",
       "1                                   0                               0   \n",
       "2                                   0                               0   \n",
       "3                                   0                               0   \n",
       "4                                   0                               0   \n",
       "5                                   0                               0   \n",
       "\n",
       "  Delivery Charge(excl Gst) GST on delivery charges Supplier State TCS (IGST)  \\\n",
       "1                     80.95                   14.57          Bihar       4.08   \n",
       "2                     80.95                   14.57          Bihar       4.08   \n",
       "3                     80.95                   14.57          Bihar       3.85   \n",
       "4                     61.86                   11.13          Bihar       4.58   \n",
       "5                     118.1                   21.26          Bihar       5.28   \n",
       "\n",
       "  TCS (0.5% CGST+0.5% SGST) Settlement Amount to Supplier  \\\n",
       "1                         0                         328.4   \n",
       "2                         0                         328.4   \n",
       "3                         0                        304.63   \n",
       "4                         0                        463.43   \n",
       "5                         0                        409.36   \n",
       "\n",
       "                               Invoice Download Link CN Download Link  \n",
       "1  https://s3-ap-southeast-1.amazonaws.com/meesho...              NaN  \n",
       "2  https://s3-ap-southeast-1.amazonaws.com/meesho...              NaN  \n",
       "3  https://s3-ap-southeast-1.amazonaws.com/meesho...              NaN  \n",
       "4  https://s3-ap-southeast-1.amazonaws.com/meesho...              NaN  \n",
       "5  https://s3-ap-southeast-1.amazonaws.com/meesho...              NaN  \n",
       "\n",
       "[5 rows x 32 columns]"
      ]
     },
     "execution_count": 3,
     "metadata": {},
     "output_type": "execute_result"
    }
   ],
   "source": [
    "# As we see above the 1st row is not of use, so we will drop it.\n",
    "df = df.drop(0,axis=0)\n",
    "df.head()"
   ]
  },
  {
   "cell_type": "code",
   "execution_count": 4,
   "id": "032ef808",
   "metadata": {},
   "outputs": [
    {
     "data": {
      "text/plain": [
       "Index(['Type', 'Reason for Credit Entry', 'Sub Order No',\n",
       "       'Order Verification Date', 'Order Date', 'Gender', 'Cust address',\n",
       "       'Reseller State', 'Product Name', 'SKU', 'Size', 'Quantity',\n",
       "       'Product Unit Price (Incl. GST + Commission)',\n",
       "       'Total Sales Amount (Incl. GST + Commission)',\n",
       "       'Discount to Reseller (Incl GST and Commision)',\n",
       "       'Net Sales Amount(Incl GST + Commision)',\n",
       "       'Delivery Revenue (Incl. of GST)', 'GST% on Product Price and Delivery',\n",
       "       'Product Taxable Value ', 'Delivery Taxable Value ',\n",
       "       'GST Payable on Product', 'GST Payable on Delivery',\n",
       "       'Total Meesho commission (Incl. GST)', 'GST on Total Meesho Commission',\n",
       "       'Delivery Charge(excl Gst)', 'GST on delivery charges',\n",
       "       'Supplier State', 'TCS (IGST)', 'TCS (0.5% CGST+0.5% SGST)',\n",
       "       'Settlement Amount to Supplier', 'Invoice Download Link',\n",
       "       'CN Download Link'],\n",
       "      dtype='object')"
      ]
     },
     "execution_count": 4,
     "metadata": {},
     "output_type": "execute_result"
    }
   ],
   "source": [
    "# Checking the names of the columns\n",
    "df.columns"
   ]
  },
  {
   "cell_type": "markdown",
   "id": "ec828d54",
   "metadata": {},
   "source": [
    "# Data Cleaning"
   ]
  },
  {
   "cell_type": "code",
   "execution_count": 5,
   "id": "66d1361d",
   "metadata": {},
   "outputs": [
    {
     "data": {
      "text/plain": [
       "58"
      ]
     },
     "execution_count": 5,
     "metadata": {},
     "output_type": "execute_result"
    }
   ],
   "source": [
    "df.duplicated('Sub Order No').sum()"
   ]
  },
  {
   "cell_type": "code",
   "execution_count": 6,
   "id": "7769602b",
   "metadata": {},
   "outputs": [
    {
     "data": {
      "text/plain": [
       "0"
      ]
     },
     "execution_count": 6,
     "metadata": {},
     "output_type": "execute_result"
    }
   ],
   "source": [
    "#Sub order no is the unique value in the dataset and if we check duplicates in the dataset it's showing. we need to drop the duplicates value.\n",
    "df.drop_duplicates(subset='Sub Order No',keep='first',inplace=True)\n",
    "df.duplicated('Sub Order No').sum()"
   ]
  },
  {
   "cell_type": "code",
   "execution_count": 7,
   "id": "50b60328",
   "metadata": {},
   "outputs": [
    {
     "data": {
      "text/html": [
       "<div>\n",
       "<style scoped>\n",
       "    .dataframe tbody tr th:only-of-type {\n",
       "        vertical-align: middle;\n",
       "    }\n",
       "\n",
       "    .dataframe tbody tr th {\n",
       "        vertical-align: top;\n",
       "    }\n",
       "\n",
       "    .dataframe thead th {\n",
       "        text-align: right;\n",
       "    }\n",
       "</style>\n",
       "<table border=\"1\" class=\"dataframe\">\n",
       "  <thead>\n",
       "    <tr style=\"text-align: right;\">\n",
       "      <th></th>\n",
       "      <th>Reason for Credit Entry</th>\n",
       "      <th>Gender</th>\n",
       "      <th>Reseller State</th>\n",
       "      <th>Product Name</th>\n",
       "      <th>Size</th>\n",
       "      <th>Quantity</th>\n",
       "      <th>Product Unit Price (Incl. GST + Commission)</th>\n",
       "      <th>Discount to Reseller (Incl GST and Commision)</th>\n",
       "    </tr>\n",
       "  </thead>\n",
       "  <tbody>\n",
       "    <tr>\n",
       "      <th>1</th>\n",
       "      <td>Delivered</td>\n",
       "      <td>Male</td>\n",
       "      <td>Tamil Nadu</td>\n",
       "      <td>Graceful Mosquito Nets</td>\n",
       "      <td>Free Size</td>\n",
       "      <td>1.0</td>\n",
       "      <td>343</td>\n",
       "      <td>0</td>\n",
       "    </tr>\n",
       "    <tr>\n",
       "      <th>2</th>\n",
       "      <td>Delivered</td>\n",
       "      <td>Male</td>\n",
       "      <td>Andhra Pradesh</td>\n",
       "      <td>Graceful Mosquito Nets</td>\n",
       "      <td>Free Size</td>\n",
       "      <td>1.0</td>\n",
       "      <td>343</td>\n",
       "      <td>0</td>\n",
       "    </tr>\n",
       "    <tr>\n",
       "      <th>3</th>\n",
       "      <td>Delivered</td>\n",
       "      <td>Male</td>\n",
       "      <td>Tamil Nadu</td>\n",
       "      <td>Classic Mosquito Nets</td>\n",
       "      <td>Free Size</td>\n",
       "      <td>1.0</td>\n",
       "      <td>319</td>\n",
       "      <td>0</td>\n",
       "    </tr>\n",
       "    <tr>\n",
       "      <th>4</th>\n",
       "      <td>Delivered</td>\n",
       "      <td>Male</td>\n",
       "      <td>West Bengal</td>\n",
       "      <td>V-Guard VIH - 101 1000 W Immersion Heater Rod ...</td>\n",
       "      <td>Free Size</td>\n",
       "      <td>1.0</td>\n",
       "      <td>468</td>\n",
       "      <td>0</td>\n",
       "    </tr>\n",
       "    <tr>\n",
       "      <th>5</th>\n",
       "      <td>Return</td>\n",
       "      <td>Female</td>\n",
       "      <td>Uttar Pradesh</td>\n",
       "      <td>BRIJ KISHORE ENTERPRISES FLORAL FLEECE BLANKET .</td>\n",
       "      <td>Single</td>\n",
       "      <td>1.0</td>\n",
       "      <td>430</td>\n",
       "      <td>0</td>\n",
       "    </tr>\n",
       "  </tbody>\n",
       "</table>\n",
       "</div>"
      ],
      "text/plain": [
       "  Reason for Credit Entry  Gender  Reseller State  \\\n",
       "1               Delivered    Male      Tamil Nadu   \n",
       "2               Delivered    Male  Andhra Pradesh   \n",
       "3               Delivered    Male      Tamil Nadu   \n",
       "4               Delivered    Male     West Bengal   \n",
       "5                  Return  Female   Uttar Pradesh   \n",
       "\n",
       "                                        Product Name       Size  Quantity  \\\n",
       "1                             Graceful Mosquito Nets  Free Size       1.0   \n",
       "2                             Graceful Mosquito Nets  Free Size       1.0   \n",
       "3                              Classic Mosquito Nets  Free Size       1.0   \n",
       "4  V-Guard VIH - 101 1000 W Immersion Heater Rod ...  Free Size       1.0   \n",
       "5   BRIJ KISHORE ENTERPRISES FLORAL FLEECE BLANKET .     Single       1.0   \n",
       "\n",
       "  Product Unit Price (Incl. GST + Commission)  \\\n",
       "1                                         343   \n",
       "2                                         343   \n",
       "3                                         319   \n",
       "4                                         468   \n",
       "5                                         430   \n",
       "\n",
       "  Discount to Reseller (Incl GST and Commision)  \n",
       "1                                             0  \n",
       "2                                             0  \n",
       "3                                             0  \n",
       "4                                             0  \n",
       "5                                             0  "
      ]
     },
     "execution_count": 7,
     "metadata": {},
     "output_type": "execute_result"
    }
   ],
   "source": [
    "# All the columns are not of use, so we will drop irrelevant column or the column that are same.\n",
    "df_clean1 = df.drop(['Type','Sub Order No','Order Verification Date', 'Order Date','Cust address', 'Invoice Download Link',\n",
    "       'CN Download Link','SKU','Total Sales Amount (Incl. GST + Commission)','Net Sales Amount(Incl GST + Commision)',\n",
    "                    'Net Sales Amount(Incl GST + Commision)','Delivery Revenue (Incl. of GST)','GST% on Product Price and Delivery',\n",
    "                   'Supplier State','GST Payable on Product','GST Payable on Delivery','Total Meesho commission (Incl. GST)',\n",
    "                   'GST on Total Meesho Commission','Product Taxable Value ','Delivery Taxable Value ',\n",
    "                   'Delivery Charge(excl Gst)','GST on delivery charges','TCS (IGST)','TCS (0.5% CGST+0.5% SGST)',\n",
    "                  'Settlement Amount to Supplier' ],axis=1)\n",
    "df_clean1.head(5)"
   ]
  },
  {
   "cell_type": "code",
   "execution_count": 8,
   "id": "0ed0ce64",
   "metadata": {},
   "outputs": [],
   "source": [
    "#Changing the name of two column\n",
    "df_clean = df_clean1.rename(index=str,columns={'Product Unit Price (Incl. GST + Commission)':'cost','Discount to Reseller (Incl GST and Commision)':'discount'})"
   ]
  },
  {
   "cell_type": "code",
   "execution_count": 9,
   "id": "fd98386d",
   "metadata": {},
   "outputs": [
    {
     "name": "stdout",
     "output_type": "stream",
     "text": [
      "<class 'pandas.core.frame.DataFrame'>\n",
      "Index: 1592 entries, 1 to 1650\n",
      "Data columns (total 8 columns):\n",
      " #   Column                   Non-Null Count  Dtype  \n",
      "---  ------                   --------------  -----  \n",
      " 0   Reason for Credit Entry  1592 non-null   object \n",
      " 1   Gender                   1592 non-null   object \n",
      " 2   Reseller State           1592 non-null   object \n",
      " 3   Product Name             1592 non-null   object \n",
      " 4   Size                     1592 non-null   object \n",
      " 5   Quantity                 1592 non-null   float64\n",
      " 6   cost                     1592 non-null   object \n",
      " 7   discount                 1592 non-null   object \n",
      "dtypes: float64(1), object(7)\n",
      "memory usage: 111.9+ KB\n"
     ]
    }
   ],
   "source": [
    "# Getting the information of data and its type\n",
    "df_clean.info()"
   ]
  },
  {
   "cell_type": "code",
   "execution_count": 10,
   "id": "4d992ae5",
   "metadata": {},
   "outputs": [
    {
     "name": "stdout",
     "output_type": "stream",
     "text": [
      "<class 'pandas.core.frame.DataFrame'>\n",
      "Index: 1592 entries, 1 to 1650\n",
      "Data columns (total 8 columns):\n",
      " #   Column                   Non-Null Count  Dtype  \n",
      "---  ------                   --------------  -----  \n",
      " 0   Reason for Credit Entry  1592 non-null   object \n",
      " 1   Gender                   1592 non-null   object \n",
      " 2   Reseller State           1592 non-null   object \n",
      " 3   Product Name             1592 non-null   object \n",
      " 4   Size                     1592 non-null   object \n",
      " 5   Quantity                 1592 non-null   float64\n",
      " 6   cost                     1592 non-null   float64\n",
      " 7   discount                 1592 non-null   float64\n",
      "dtypes: float64(3), object(5)\n",
      "memory usage: 111.9+ KB\n"
     ]
    }
   ],
   "source": [
    "# As we see above Price and Discount are float value but showing it as object. Now we convert it into float.\n",
    "df_clean['cost'] = df_clean['cost'].astype(float)\n",
    "df_clean['discount'] = df_clean['discount'].astype(float)\n",
    "df_clean.info()"
   ]
  },
  {
   "cell_type": "code",
   "execution_count": 11,
   "id": "820170e5",
   "metadata": {},
   "outputs": [
    {
     "data": {
      "text/plain": [
       "Reason for Credit Entry    DeliveredDeliveredDeliveredDeliveredReturnDeli...\n",
       "Gender                     MaleMaleMaleMaleFemaleFemaleMaleFemaleMaleFema...\n",
       "Reseller State             Tamil NaduAndhra PradeshTamil NaduWest BengalU...\n",
       "Product Name               Graceful Mosquito NetsGraceful Mosquito NetsCl...\n",
       "Size                       Free SizeFree SizeFree SizeFree SizeSingleFree...\n",
       "Quantity                                                              1627.0\n",
       "cost                                                                443429.0\n",
       "discount                                                              3620.0\n",
       "dtype: object"
      ]
     },
     "execution_count": 11,
     "metadata": {},
     "output_type": "execute_result"
    }
   ],
   "source": [
    "# All object value converted into float value.\n",
    "# Now we will calculate the total amount earn by seller.\n",
    "df_clean.sum(axis=0)"
   ]
  },
  {
   "cell_type": "markdown",
   "id": "7f846710",
   "metadata": {},
   "source": [
    "# Obsevation\n",
    "Total 1627 quantity sold by seller and earn Rs 443429.0"
   ]
  },
  {
   "cell_type": "code",
   "execution_count": 12,
   "id": "1fea5d2e",
   "metadata": {},
   "outputs": [
    {
     "data": {
      "text/plain": [
       "Reason for Credit Entry    0\n",
       "Gender                     0\n",
       "Reseller State             0\n",
       "Product Name               0\n",
       "Size                       0\n",
       "Quantity                   0\n",
       "cost                       0\n",
       "discount                   0\n",
       "dtype: int64"
      ]
     },
     "execution_count": 12,
     "metadata": {},
     "output_type": "execute_result"
    }
   ],
   "source": [
    "# Checking the null value in the observation.\n",
    "df_clean.isnull().sum()"
   ]
  },
  {
   "cell_type": "markdown",
   "id": "233bb814",
   "metadata": {},
   "source": [
    "# Observation\n",
    "There is no null value present in the data."
   ]
  },
  {
   "cell_type": "code",
   "execution_count": 13,
   "id": "b712302b",
   "metadata": {},
   "outputs": [
    {
     "data": {
      "text/html": [
       "<div>\n",
       "<style scoped>\n",
       "    .dataframe tbody tr th:only-of-type {\n",
       "        vertical-align: middle;\n",
       "    }\n",
       "\n",
       "    .dataframe tbody tr th {\n",
       "        vertical-align: top;\n",
       "    }\n",
       "\n",
       "    .dataframe thead th {\n",
       "        text-align: right;\n",
       "    }\n",
       "</style>\n",
       "<table border=\"1\" class=\"dataframe\">\n",
       "  <thead>\n",
       "    <tr style=\"text-align: right;\">\n",
       "      <th></th>\n",
       "      <th>Quantity</th>\n",
       "      <th>cost</th>\n",
       "      <th>discount</th>\n",
       "    </tr>\n",
       "  </thead>\n",
       "  <tbody>\n",
       "    <tr>\n",
       "      <th>count</th>\n",
       "      <td>1592.000000</td>\n",
       "      <td>1592.000000</td>\n",
       "      <td>1592.000000</td>\n",
       "    </tr>\n",
       "    <tr>\n",
       "      <th>mean</th>\n",
       "      <td>1.021985</td>\n",
       "      <td>278.535804</td>\n",
       "      <td>2.273869</td>\n",
       "    </tr>\n",
       "    <tr>\n",
       "      <th>std</th>\n",
       "      <td>0.181187</td>\n",
       "      <td>110.050762</td>\n",
       "      <td>18.384513</td>\n",
       "    </tr>\n",
       "    <tr>\n",
       "      <th>min</th>\n",
       "      <td>1.000000</td>\n",
       "      <td>63.000000</td>\n",
       "      <td>0.000000</td>\n",
       "    </tr>\n",
       "    <tr>\n",
       "      <th>25%</th>\n",
       "      <td>1.000000</td>\n",
       "      <td>210.750000</td>\n",
       "      <td>0.000000</td>\n",
       "    </tr>\n",
       "    <tr>\n",
       "      <th>50%</th>\n",
       "      <td>1.000000</td>\n",
       "      <td>257.000000</td>\n",
       "      <td>0.000000</td>\n",
       "    </tr>\n",
       "    <tr>\n",
       "      <th>75%</th>\n",
       "      <td>1.000000</td>\n",
       "      <td>343.000000</td>\n",
       "      <td>0.000000</td>\n",
       "    </tr>\n",
       "    <tr>\n",
       "      <th>max</th>\n",
       "      <td>5.000000</td>\n",
       "      <td>1919.000000</td>\n",
       "      <td>357.000000</td>\n",
       "    </tr>\n",
       "  </tbody>\n",
       "</table>\n",
       "</div>"
      ],
      "text/plain": [
       "          Quantity         cost     discount\n",
       "count  1592.000000  1592.000000  1592.000000\n",
       "mean      1.021985   278.535804     2.273869\n",
       "std       0.181187   110.050762    18.384513\n",
       "min       1.000000    63.000000     0.000000\n",
       "25%       1.000000   210.750000     0.000000\n",
       "50%       1.000000   257.000000     0.000000\n",
       "75%       1.000000   343.000000     0.000000\n",
       "max       5.000000  1919.000000   357.000000"
      ]
     },
     "execution_count": 13,
     "metadata": {},
     "output_type": "execute_result"
    }
   ],
   "source": [
    "df_clean.describe()"
   ]
  },
  {
   "cell_type": "code",
   "execution_count": 14,
   "id": "d65a56db",
   "metadata": {},
   "outputs": [
    {
     "name": "stdout",
     "output_type": "stream",
     "text": [
      "608.685\n",
      "-51.61499999999995\n"
     ]
    },
    {
     "data": {
      "text/html": [
       "<div>\n",
       "<style scoped>\n",
       "    .dataframe tbody tr th:only-of-type {\n",
       "        vertical-align: middle;\n",
       "    }\n",
       "\n",
       "    .dataframe tbody tr th {\n",
       "        vertical-align: top;\n",
       "    }\n",
       "\n",
       "    .dataframe thead th {\n",
       "        text-align: right;\n",
       "    }\n",
       "</style>\n",
       "<table border=\"1\" class=\"dataframe\">\n",
       "  <thead>\n",
       "    <tr style=\"text-align: right;\">\n",
       "      <th></th>\n",
       "      <th>Reason for Credit Entry</th>\n",
       "      <th>Gender</th>\n",
       "      <th>Reseller State</th>\n",
       "      <th>Product Name</th>\n",
       "      <th>Size</th>\n",
       "      <th>Quantity</th>\n",
       "      <th>cost</th>\n",
       "      <th>discount</th>\n",
       "    </tr>\n",
       "  </thead>\n",
       "  <tbody>\n",
       "    <tr>\n",
       "      <th>20</th>\n",
       "      <td>Return</td>\n",
       "      <td>Male</td>\n",
       "      <td>Rajasthan</td>\n",
       "      <td>JOCKEY VEST</td>\n",
       "      <td>M</td>\n",
       "      <td>1.0</td>\n",
       "      <td>763.0</td>\n",
       "      <td>0.0</td>\n",
       "    </tr>\n",
       "    <tr>\n",
       "      <th>22</th>\n",
       "      <td>Return</td>\n",
       "      <td>Male</td>\n",
       "      <td>Rajasthan</td>\n",
       "      <td>JOCKEY VEST</td>\n",
       "      <td>L</td>\n",
       "      <td>1.0</td>\n",
       "      <td>763.0</td>\n",
       "      <td>0.0</td>\n",
       "    </tr>\n",
       "    <tr>\n",
       "      <th>35</th>\n",
       "      <td>Return</td>\n",
       "      <td>Male</td>\n",
       "      <td>Gujarat</td>\n",
       "      <td>JOCKEY PRINT  BRIEFS</td>\n",
       "      <td>M</td>\n",
       "      <td>1.0</td>\n",
       "      <td>725.0</td>\n",
       "      <td>0.0</td>\n",
       "    </tr>\n",
       "    <tr>\n",
       "      <th>55</th>\n",
       "      <td>Delivered</td>\n",
       "      <td>Male</td>\n",
       "      <td>Assam</td>\n",
       "      <td>JOCKEY AM81 TRUE BLACK MEL TEE</td>\n",
       "      <td>M</td>\n",
       "      <td>1.0</td>\n",
       "      <td>658.0</td>\n",
       "      <td>0.0</td>\n",
       "    </tr>\n",
       "    <tr>\n",
       "      <th>60</th>\n",
       "      <td>Return</td>\n",
       "      <td>Male</td>\n",
       "      <td>Uttar Pradesh</td>\n",
       "      <td>Mamy Poko Pants  Extra Absorb  Diaper pants</td>\n",
       "      <td>Free Size</td>\n",
       "      <td>1.0</td>\n",
       "      <td>629.0</td>\n",
       "      <td>0.0</td>\n",
       "    </tr>\n",
       "    <tr>\n",
       "      <th>62</th>\n",
       "      <td>Delivered</td>\n",
       "      <td>Male</td>\n",
       "      <td>Rajasthan</td>\n",
       "      <td>Mamy Poko Pants  Extra Absorb  Diaper pants</td>\n",
       "      <td>Free Size</td>\n",
       "      <td>1.0</td>\n",
       "      <td>629.0</td>\n",
       "      <td>0.0</td>\n",
       "    </tr>\n",
       "    <tr>\n",
       "      <th>70</th>\n",
       "      <td>Delivered</td>\n",
       "      <td>Female</td>\n",
       "      <td>Himachal Pradesh</td>\n",
       "      <td>Mamy Poko Pants  Extra Absorb  Diaper pants</td>\n",
       "      <td>Free Size</td>\n",
       "      <td>1.0</td>\n",
       "      <td>629.0</td>\n",
       "      <td>0.0</td>\n",
       "    </tr>\n",
       "    <tr>\n",
       "      <th>73</th>\n",
       "      <td>Delivered</td>\n",
       "      <td>Female</td>\n",
       "      <td>Tamil Nadu</td>\n",
       "      <td>Mamy Poko Pants  Extra Absorb  Diaper pants</td>\n",
       "      <td>Free Size</td>\n",
       "      <td>1.0</td>\n",
       "      <td>629.0</td>\n",
       "      <td>0.0</td>\n",
       "    </tr>\n",
       "    <tr>\n",
       "      <th>502</th>\n",
       "      <td>Delivered</td>\n",
       "      <td>Male</td>\n",
       "      <td>Maharashtra</td>\n",
       "      <td>SWISS TRUNK  ( XL 95 ) PO5</td>\n",
       "      <td>XL</td>\n",
       "      <td>1.0</td>\n",
       "      <td>720.0</td>\n",
       "      <td>0.0</td>\n",
       "    </tr>\n",
       "    <tr>\n",
       "      <th>533</th>\n",
       "      <td>Return</td>\n",
       "      <td>Female</td>\n",
       "      <td>Odisha</td>\n",
       "      <td>brij kishore enterprises mink single size  bla...</td>\n",
       "      <td>Free Size</td>\n",
       "      <td>1.0</td>\n",
       "      <td>632.0</td>\n",
       "      <td>53.0</td>\n",
       "    </tr>\n",
       "    <tr>\n",
       "      <th>1218</th>\n",
       "      <td>Return</td>\n",
       "      <td>Male</td>\n",
       "      <td>Bihar</td>\n",
       "      <td>MONTE CARLO BLANKETS</td>\n",
       "      <td>Free Size</td>\n",
       "      <td>1.0</td>\n",
       "      <td>1919.0</td>\n",
       "      <td>0.0</td>\n",
       "    </tr>\n",
       "    <tr>\n",
       "      <th>1278</th>\n",
       "      <td>Delivered</td>\n",
       "      <td>Female</td>\n",
       "      <td>Bihar</td>\n",
       "      <td>MONTE CARLO BLANKETS</td>\n",
       "      <td>Free Size</td>\n",
       "      <td>1.0</td>\n",
       "      <td>1919.0</td>\n",
       "      <td>0.0</td>\n",
       "    </tr>\n",
       "    <tr>\n",
       "      <th>1348</th>\n",
       "      <td>Delivered</td>\n",
       "      <td>Female</td>\n",
       "      <td>Uttar Pradesh</td>\n",
       "      <td>AMBI ENTERPRISES FLEECE SINGLE SIZE BLANKETS</td>\n",
       "      <td>Free Size</td>\n",
       "      <td>1.0</td>\n",
       "      <td>739.0</td>\n",
       "      <td>0.0</td>\n",
       "    </tr>\n",
       "    <tr>\n",
       "      <th>1556</th>\n",
       "      <td>Delivered</td>\n",
       "      <td>Female</td>\n",
       "      <td>Odisha</td>\n",
       "      <td>AMBI ENTERPRISES Cotton Queen (6ft x 7ft) size...</td>\n",
       "      <td>Free Size</td>\n",
       "      <td>1.0</td>\n",
       "      <td>700.0</td>\n",
       "      <td>357.0</td>\n",
       "    </tr>\n",
       "    <tr>\n",
       "      <th>1638</th>\n",
       "      <td>Delivered</td>\n",
       "      <td>Female</td>\n",
       "      <td>Maharashtra</td>\n",
       "      <td>AMBI ENTERPRISES Fleece Blankets  Check patter...</td>\n",
       "      <td>Single</td>\n",
       "      <td>1.0</td>\n",
       "      <td>649.0</td>\n",
       "      <td>0.0</td>\n",
       "    </tr>\n",
       "  </tbody>\n",
       "</table>\n",
       "</div>"
      ],
      "text/plain": [
       "     Reason for Credit Entry  Gender    Reseller State  \\\n",
       "20                    Return    Male         Rajasthan   \n",
       "22                    Return    Male         Rajasthan   \n",
       "35                    Return    Male           Gujarat   \n",
       "55                 Delivered    Male             Assam   \n",
       "60                    Return    Male     Uttar Pradesh   \n",
       "62                 Delivered    Male         Rajasthan   \n",
       "70                 Delivered  Female  Himachal Pradesh   \n",
       "73                 Delivered  Female        Tamil Nadu   \n",
       "502                Delivered    Male       Maharashtra   \n",
       "533                   Return  Female            Odisha   \n",
       "1218                  Return    Male             Bihar   \n",
       "1278               Delivered  Female             Bihar   \n",
       "1348               Delivered  Female     Uttar Pradesh   \n",
       "1556               Delivered  Female            Odisha   \n",
       "1638               Delivered  Female       Maharashtra   \n",
       "\n",
       "                                           Product Name       Size  Quantity  \\\n",
       "20                                          JOCKEY VEST          M       1.0   \n",
       "22                                          JOCKEY VEST          L       1.0   \n",
       "35                                 JOCKEY PRINT  BRIEFS          M       1.0   \n",
       "55                       JOCKEY AM81 TRUE BLACK MEL TEE          M       1.0   \n",
       "60          Mamy Poko Pants  Extra Absorb  Diaper pants  Free Size       1.0   \n",
       "62          Mamy Poko Pants  Extra Absorb  Diaper pants  Free Size       1.0   \n",
       "70          Mamy Poko Pants  Extra Absorb  Diaper pants  Free Size       1.0   \n",
       "73          Mamy Poko Pants  Extra Absorb  Diaper pants  Free Size       1.0   \n",
       "502                          SWISS TRUNK  ( XL 95 ) PO5         XL       1.0   \n",
       "533   brij kishore enterprises mink single size  bla...  Free Size       1.0   \n",
       "1218                               MONTE CARLO BLANKETS  Free Size       1.0   \n",
       "1278                               MONTE CARLO BLANKETS  Free Size       1.0   \n",
       "1348      AMBI ENTERPRISES FLEECE SINGLE SIZE BLANKETS   Free Size       1.0   \n",
       "1556  AMBI ENTERPRISES Cotton Queen (6ft x 7ft) size...  Free Size       1.0   \n",
       "1638  AMBI ENTERPRISES Fleece Blankets  Check patter...     Single       1.0   \n",
       "\n",
       "        cost  discount  \n",
       "20     763.0       0.0  \n",
       "22     763.0       0.0  \n",
       "35     725.0       0.0  \n",
       "55     658.0       0.0  \n",
       "60     629.0       0.0  \n",
       "62     629.0       0.0  \n",
       "70     629.0       0.0  \n",
       "73     629.0       0.0  \n",
       "502    720.0       0.0  \n",
       "533    632.0      53.0  \n",
       "1218  1919.0       0.0  \n",
       "1278  1919.0       0.0  \n",
       "1348   739.0       0.0  \n",
       "1556   700.0     357.0  \n",
       "1638   649.0       0.0  "
      ]
     },
     "execution_count": 14,
     "metadata": {},
     "output_type": "execute_result"
    }
   ],
   "source": [
    "# Here we check outliers in Product unit price section\n",
    "Right_outliers = 278.535+3*110.050 #Mean+3*std\n",
    "Left_outliers = 278.535-3*110.050 #Mean-3*std\n",
    "print(Right_outliers)\n",
    "print(Left_outliers)\n",
    "df_clean[(df_clean['cost']>Right_outliers) | (df_clean['cost']<Left_outliers)]"
   ]
  },
  {
   "cell_type": "markdown",
   "id": "36aab9a3",
   "metadata": {},
   "source": [
    "# Observation\n",
    "Here we found some outliers but we are not going to drop it beacause it is will play an important role in finding our target."
   ]
  },
  {
   "cell_type": "markdown",
   "id": "39bc84f0",
   "metadata": {},
   "source": [
    "# Data Visualization"
   ]
  },
  {
   "cell_type": "code",
   "execution_count": 15,
   "id": "44dcbf35",
   "metadata": {},
   "outputs": [
    {
     "name": "stdout",
     "output_type": "stream",
     "text": [
      "Delivered    1488\n",
      "Return        104\n",
      "Name: Reason for Credit Entry, dtype: int64\n"
     ]
    },
    {
     "name": "stderr",
     "output_type": "stream",
     "text": [
      "E:\\Anaconda\\lib\\site-packages\\seaborn\\_decorators.py:36: FutureWarning: Pass the following variable as a keyword arg: x. From version 0.12, the only valid positional argument will be `data`, and passing other arguments without an explicit keyword will result in an error or misinterpretation.\n",
      "  warnings.warn(\n"
     ]
    },
    {
     "data": {
      "image/png": "[encoded data removed]",
      "text/plain": [
       "<Figure size 432x288 with 1 Axes>"
      ]
     },
     "metadata": {
      "needs_background": "light"
     },
     "output_type": "display_data"
    }
   ],
   "source": [
    "#First we will check the number products delivered and number of return.\n",
    "print(df['Reason for Credit Entry'].value_counts())\n",
    "sns.countplot('Reason for Credit Entry',data=df_clean)\n",
    "plt.title('Delivered vs return')\n",
    "plt.show()"
   ]
  },
  {
   "cell_type": "markdown",
   "id": "664f85c5",
   "metadata": {},
   "source": [
    "# Observation \n",
    "Data set is not balanced, Number delivered is very high as respect to return."
   ]
  },
  {
   "cell_type": "code",
   "execution_count": 16,
   "id": "e34982eb",
   "metadata": {},
   "outputs": [
    {
     "name": "stderr",
     "output_type": "stream",
     "text": [
      "E:\\Anaconda\\lib\\site-packages\\seaborn\\_decorators.py:36: FutureWarning: Pass the following variable as a keyword arg: x. From version 0.12, the only valid positional argument will be `data`, and passing other arguments without an explicit keyword will result in an error or misinterpretation.\n",
      "  warnings.warn(\n"
     ]
    },
    {
     "data": {
      "image/png": "[encoded data removed]",
      "text/plain": [
       "<Figure size 432x288 with 1 Axes>"
      ]
     },
     "metadata": {
      "needs_background": "light"
     },
     "output_type": "display_data"
    },
    {
     "data": {
      "text/plain": [
       "Male      833\n",
       "Female    759\n",
       "Name: Gender, dtype: int64"
      ]
     },
     "execution_count": 16,
     "metadata": {},
     "output_type": "execute_result"
    }
   ],
   "source": [
    "# Checking the data on gender basis \n",
    "sns.countplot('Gender',data =df)\n",
    "plt.title('Male vs Female')\n",
    "plt.show()\n",
    "df['Gender'].value_counts()"
   ]
  },
  {
   "cell_type": "markdown",
   "id": "cdb16743",
   "metadata": {},
   "source": [
    "# Observation\n",
    "Both gender participating almost equally in the online shopping"
   ]
  },
  {
   "cell_type": "code",
   "execution_count": 17,
   "id": "de5808e8",
   "metadata": {},
   "outputs": [
    {
     "name": "stdout",
     "output_type": "stream",
     "text": [
      "Fancy Mosquito Nets                                                                 305\n",
      "AMBI ENTERPRISES Cotton Queen (6ft x 7ft) size soft Mosquito net.                   285\n",
      "Trendy Mosquito Net                                                                 237\n",
      "Graceful Mosquito Nets                                                              147\n",
      "Fancy Mosquito Net                                                                  119\n",
      "Polyurethane Face Mask                                                               53\n",
      "Designer Mosquito Net                                                                44\n",
      "BRIJ KISHORE ENTERPRISES FLORAL FLEECE BLANKET .                                     25\n",
      "V-Guard VIH - 101 1000 W Immersion Heater Rod  (Water)Water Heaters & Geysers        22\n",
      "Classic Mosquito Nets                                                                21\n",
      "BRIJ KISHORE ENTERPRISES SINGLE SIZE COTTON MOSQUITO NET.                            18\n",
      "Essential Mosquito Nets                                                              18\n",
      "Useful Mosquito Nets                                                                 18\n",
      "Baby Mosquito Net                                                                    16\n",
      "Modern Mosquito Nets                                                                 16\n",
      "BRIJ KISHORE ENTERPRISES COTTON ( 6 FT X 7FT ) MOSQUITO NET.                         15\n",
      "AMBI ENTERPRISES Single size (5ft X 7ft) Nylon NO.1 mosquito net.                    15\n",
      "AMBI ENTERPRISES FLEECE SINGLE SIZE BLANKETS                                         14\n",
      "BRIJ KISHORE ENTERPRISES COTTON SINGLE SIZE MOSQUITO NET.                            13\n",
      "Trendy Mosquito Nets                                                                 12\n",
      "AMBI ENTERPRISES Queen size (6ft x 7ft) soft print cotton mosquito net.              12\n",
      "Pendant Mangalsutra                                                                  11\n",
      "V-Guard VIH - 101 1000 W Immersion Heater Rod  (Water)                                9\n",
      "BRIJ KISHORE ENTERPRISES NYLON SINGLE ( 5 FT X 7 FT ) SIZE NO.1 MOSQUITO NET.         7\n",
      "brij kishore enterprises mink single size  blanket.                                   6\n",
      "Fabulous Mosquito Net                                                                 6\n",
      "AMBI ENTERPRISES WOOLLEN HEAD AND NECK CAP / BEANIES (BALACLAVA CAP)                  6\n",
      "BRIJ KISHORE ENTERPRISES COTTON KING SIZE MOSQUITO NET.                               5\n",
      "AMBI ENTERPRISES BABY MOSQUITO NET                                                    5\n",
      "BRIJ KISHORE ENTERPRISES FLEECE P05 POLO SINGLE BLANKET.                              5\n",
      "Mamy Poko Pants Extra Absorb Diaper pants                                             5\n",
      "DIXCY SCOTT VICTOR DURBY VEST                                                         5\n",
      "AMBI ENTERPRISES Single size (5ft x 7ft) cotton Mosquito net.                         4\n",
      "MILTON OSCAR PET 1000ML BOTTLE PO6 Wonderful Water Bottles                            4\n",
      "Stylo Mosquito Nets                                                                   4\n",
      "Attractive Mosquito Nets                                                              4\n",
      "MANGALSUTRA SET                                                                       4\n",
      "B.K.ENTERPRISES _M702_ Mangalsutras                                                   4\n",
      "AMBI ENTERPRISES Jhumki Earrings Pack of 12 pairs.                                    4\n",
      "Mamy Poko Pants  Extra Absorb  Diaper pants                                           4\n",
      "BRIJ KISHORE ENTERPRISES KING SIZE COTTON MOSQUITO NET.                               3\n",
      "AMBI ENTERPRISES Cotton 077 King (7ft x 8ft) size Mosquito net.                       3\n",
      "B.K.ENTERPRISES _M302_ Mangalsutras                                                   3\n",
      "AMBI ENTERPRISES Cotton Mosquito net Single size (5ft x 7ft) Soft White               3\n",
      "JOCKEY TOP WEAR CHARCOAL FULL SLEVE THERMAL.                                          3\n",
      "LYRA 211 BRIEF / PANTY                                                                3\n",
      "BRIJ KISHORE ENTERPRISES QUEEN SIZE MOSQUITO NET.                                     3\n",
      "B. K. ENTERPRISES  WOOLLEN HEAD AND NECK CAP / BEANIES ( BALACLAVA CAP )              2\n",
      "LYRA 211 ( L ) Briefs                                                                 2\n",
      "MONTE CARLO BLANKETS                                                                  2\n",
      "VICTOR DURBY  COMBO GREY ( MEDIUM _85)                                                2\n",
      "Designer Mosquito Nets                                                                2\n",
      "PENDANT  MANGALSUTRA                                                                  2\n",
      "JOCKEY VEST                                                                           2\n",
      "WOOLLEN HEAD AND NECK CAP / BEANIES (BALACLAVA CAP)                                   2\n",
      "BRIJ KISHORE ENTERPRISES COTTON MOSQUITO NET.                                         2\n",
      "PENDAI BUTTI JEWELLERY SET                                                            2\n",
      "Pendai Butti Set                                                                      2\n",
      "AMBI ENTERPRISES Queen size (6ft x 7ft) 703 pink print soft cotton mosquito net.      1\n",
      "BRIJ KISHORE ENTERPRISES KING SIZE MOSQUITO NET.                                      1\n",
      "SOFTLINE  PLAIN PANTY                                                                 1\n",
      "SWISS TRUNK  ( XL 95 ) PO5                                                            1\n",
      "Classy Mosquito Nets                                                                  1\n",
      "JOCKEY PRINT  BRIEFS                                                                  1\n",
      "B.K ENTERPRISES PURE ORGANIC HOMEMADE COW DUNG CAKE P04                               1\n",
      "Stylish Women Bra                                                                     1\n",
      "AMBI ENTERPRISES Cotton Mosquito net Single size (5ft x 7ft) Soft Green               1\n",
      "New Collections Of Mosquito Nets                                                      1\n",
      "AMBI ENTERPRISES Fleece Blankets  Check pattern Single size (5 X 7)ft. PO5.           1\n",
      "Dohar / Quilt / Blanket Cover                                                         1\n",
      "Dohar / Quilt / Blanket Double Bed Cove.                                              1\n",
      "JOCKEY AM81 TRUE BLACK MEL TEE                                                        1\n",
      "MACROMAN WONDER THERMAL                                                               1\n",
      "ONN Men Polo Neck T-Shirt                                                             1\n",
      "Mink Blanket Single Size                                                              1\n",
      "JOCKEY 1581_30B_ RED LOV  Bra                                                         1\n",
      "MACROMAN PRINTED TRUNK                                                                1\n",
      "AMBI ENTERPRISES Single size (4ft x 6ft) 703 print soft cotton mosquito net.          1\n",
      "V-Guard VIH - 151 1500 W Immersion Heater Rod (Water)                                 1\n",
      "VICTOR DURBY  COMBO GREY + BLACK( SMALL _80)                                          1\n"
     ]
    }
   ],
   "source": [
    "#Checking the count of unique value in product name\n",
    "print(df_clean['Product Name'].value_counts().to_string())"
   ]
  },
  {
   "cell_type": "markdown",
   "id": "5c97d280",
   "metadata": {},
   "source": [
    "# Observation\n",
    "As wee similar products are mentioned with different type so we can reduce the name making it same"
   ]
  },
  {
   "cell_type": "code",
   "execution_count": 18,
   "id": "0957a84f",
   "metadata": {},
   "outputs": [],
   "source": [
    "df_clean['Product Name'].replace({'Fancy Mosquito Nets':'net','Trendy Mosquito Net':'net','Graceful Mosquito Nets':'net','BRIJ KISHORE ENTERPRISES KING SIZE COTTON MOSQUITO NET.':'net','BRIJ KISHORE ENTERPRISES KING SIZE MOSQUITO NET.':'net','V-Guard VIH - 151 1500 W Immersion Heater Rod (Water)':'Water rod','Dohar / Quilt / Blanket Double Bed Cove.':'Blanket',\n",
    "                                  'Fancy Mosquito Net':'net','AMBI ENTERPRISES Single size (5ft x 7ft) cotton Mosquito net.':'net','BRIJ KISHORE ENTERPRISES SINGLE SIZE COTTON MOSQUITO NET.':'net','BRIJ KISHORE ENTERPRISES COTTON KING SIZE MOSQUITO NET.':'net','Pendant Mangalsutra':'Mangalsutra','Mangal sutra':'Mangalsutra','Dohar / Quilt / Blanket Cover':'Blanket',\n",
    "                                  'Classic Mosquito Nets':'net','BRIJ KISHORE ENTERPRISES COTTON ( 6 FT X 7FT ) MOSQUITO NET.':'net','BRIJ KISHORE ENTERPRISES NYLON SINGLE ( 5 FT X 7 FT ) SIZE NO.1 MOSQUITO NET.':'net','Classy Mosquito Nets':'Designer Mosquito Net','B.K.ENTERPRISES _M702_ Mangalsutras':'Mangalsutra','B.K.ENTERPRISES _M302_ Mangalsutras':'Mangalsutra',\n",
    "                                  'AMBI ENTERPRISES Queen size (6ft x 7ft) soft print cotton mosquito net.':'net','AMBI ENTERPRISES Queen size (6ft x 7ft) 703 pink print soft cotton mosquito net.':'net','AMBI ENTERPRISES Single size (4ft x 6ft) 703 print soft cotton mosquito net.':'net','Attractive Mosquito Nets':'Designer Mosquito Net','MONTE CARLO BLANKETS':'Blanket',\n",
    "                                  'AMBI ENTERPRISES Single size (5ft X 7ft) Nylon NO.1 mosquito net.':'net','AMBI ENTERPRISES Cotton Mosquito net Single size (5ft x 7ft) Soft Green':'net','AMBI ENTERPRISES Fleece Blankets  Check pattern Single size (5 X 7)ft. PO5.':'net','Stylo Mosquito Nets':'Designer Mosquito Net','New Collections Of Mosquito Nets':'Designer Mosquito Net',\n",
    "                                  'AMBI ENTERPRISES Single size (5ft X 7ft) Nylon NO.1 mosquito net.':'net','AMBI ENTERPRISES Cotton Mosquito net Single size (5ft x 7ft) Soft Green':'net','AMBI ENTERPRISES Fleece Blankets  Check pattern Single size (5 X 7)ft. PO5.':'net','MANGALSUTRA SET':'Mangalsutra','Mink Blanket Single Size':'Blanket',\n",
    "                                  'BRIJ KISHORE ENTERPRISES QUEEN SIZE MOSQUITO NET.':'net','Designer Mosquito Nets':'Designer Mosquito Net','PENDANT  MANGALSUTRA':'Manglsutra','AMBI ENTERPRISES Cotton 077 King (7ft x 8ft) size Mosquito net.':'net','BRIJ KISHORE ENTERPRISES COTTON MOSQUITO NET.':'net','AMBI ENTERPRISES Cotton Mosquito net Single size (5ft x 7ft) Soft White':'Designer Mosquito Net',\n",
    "                                  'Essential Mosquito Nets':'Designer Mosquito Net','Useful Mosquito Net':'Designer Mosquito Net','Modern Mosquito Nets':'Designer Mosquito Net','Fabulous Mosquito Net':'Designer Mosquito Net','brij kishore enterprises mink single size  blanket.':'Blanket','BRIJ KISHORE ENTERPRISES FLEECE P05 POLO SINGLE BLANKET.':'Blanket',\n",
    "                                  'Trendy Mosquito Nets':'Designer Mosquito Net','Useful Mosquito Nets':'Designer Mosquito Net','BRIJ KISHORE ENTERPRISES FLORAL FLEECE BLANKET .':'Blanket','AMBI ENTERPRISES FLEECE SINGLE SIZE BLANKETS ':'Blanket','AMBI ENTERPRISES BABY MOSQUITO NET':'Baby Mosquito Net','Mamy Poko Pants  Extra Absorb  Diaper pants':'Diaper',\n",
    "                                  'AMBI ENTERPRISES Cotton Queen (6ft x 7ft) size soft Mosquito net.':'net','V-Guard VIH - 101 1000 W Immersion Heater Rod  (Water)Water Heaters & Geysers ':'Water rod','BRIJ KISHORE ENTERPRISES COTTON SINGLE SIZE MOSQUITO NET.':'net','Mamy Poko Pants Extra Absorb Diaper pants':'Diaper',\n",
    "                                 'V-Guard VIH - 101 1000 W Immersion Heater Rod  (Water)':'Water rod','PENDAI BUTTI JEWELLERY SET':'Butti set','Pendai Butti Set':'Butti set','Manglsutra':'Mangalsutra','LYRA 211 ( L ) Briefs ':'Panty','LYRA 211 BRIEF / PANTY':'Panty','SOFTLINE  PLAIN PANTY':'Panty',\n",
    "                                 'WOOLLEN HEAD AND NECK CAP / BEANIES (BALACLAVA CAP) ':'Beanie cap','AMBI ENTERPRISES WOOLLEN HEAD AND NECK CAP / BEANIES (BALACLAVA CAP)':'Beanie cap','B. K. ENTERPRISES  WOOLLEN HEAD AND NECK CAP / BEANIES ( BALACLAVA CAP )':'Beanie cap'},inplace = True)\n",
    "df_clean['Product Name'].replace({'net':'Mosquito net'},inplace=True)"
   ]
  },
  {
   "cell_type": "code",
   "execution_count": 19,
   "id": "d78866c1",
   "metadata": {},
   "outputs": [
    {
     "name": "stdout",
     "output_type": "stream",
     "text": [
      "Mosquito net                                                  1219\n",
      "Designer Mosquito Net                                          129\n",
      "Blanket                                                         55\n",
      "Polyurethane Face Mask                                          53\n",
      "Water rod                                                       32\n",
      "Mangalsutra                                                     22\n",
      "Baby Mosquito Net                                               21\n",
      "Beanie cap                                                      10\n",
      "Diaper                                                           9\n",
      "Panty                                                            6\n",
      "DIXCY SCOTT VICTOR DURBY VEST                                    5\n",
      "Butti set                                                        4\n",
      "MILTON OSCAR PET 1000ML BOTTLE PO6 Wonderful Water Bottles       4\n",
      "AMBI ENTERPRISES Jhumki Earrings Pack of 12 pairs.               4\n",
      "JOCKEY TOP WEAR CHARCOAL FULL SLEVE THERMAL.                     3\n",
      "Manglsutra                                                       2\n",
      "VICTOR DURBY  COMBO GREY ( MEDIUM _85)                           2\n",
      "JOCKEY VEST                                                      2\n",
      "MACROMAN PRINTED TRUNK                                           1\n",
      "JOCKEY AM81 TRUE BLACK MEL TEE                                   1\n",
      "MACROMAN WONDER THERMAL                                          1\n",
      "JOCKEY PRINT  BRIEFS                                             1\n",
      "VICTOR DURBY  COMBO GREY + BLACK( SMALL _80)                     1\n",
      "SWISS TRUNK  ( XL 95 ) PO5                                       1\n",
      "JOCKEY 1581_30B_ RED LOV  Bra                                    1\n",
      "B.K ENTERPRISES PURE ORGANIC HOMEMADE COW DUNG CAKE P04          1\n",
      "ONN Men Polo Neck T-Shirt                                        1\n",
      "Stylish Women Bra                                                1\n"
     ]
    }
   ],
   "source": [
    "print(df_clean['Product Name'].value_counts().to_string())"
   ]
  },
  {
   "cell_type": "markdown",
   "id": "50f92360",
   "metadata": {},
   "source": [
    "# Obsevation\n",
    "Now number of features reduced beacause we make similar products in same categories."
   ]
  },
  {
   "cell_type": "code",
   "execution_count": 20,
   "id": "4f9d4c58",
   "metadata": {},
   "outputs": [
    {
     "name": "stdout",
     "output_type": "stream",
     "text": [
      "                     Product Name  Gender  counts\n",
      "0               Baby Mosquito Net  Female       1\n",
      "1               Baby Mosquito Net    Male       1\n",
      "2                      Beanie cap    Male       1\n",
      "3                         Blanket  Female       3\n",
      "4                         Blanket    Male       4\n",
      "5                       Butti set  Female       1\n",
      "6   DIXCY SCOTT VICTOR DURBY VEST    Male       2\n",
      "7           Designer Mosquito Net  Female       4\n",
      "8           Designer Mosquito Net    Male       4\n",
      "9                          Diaper    Male       1\n",
      "10           JOCKEY PRINT  BRIEFS    Male       1\n",
      "11                    JOCKEY VEST    Male       2\n",
      "12         MACROMAN PRINTED TRUNK    Male       1\n",
      "13                    Mangalsutra    Male       1\n",
      "14                   Mosquito net  Female      29\n",
      "15                   Mosquito net    Male      45\n",
      "16                          Panty    Male       1\n",
      "17                      Water rod  Female       1\n",
      "18                      Water rod    Male       1\n"
     ]
    }
   ],
   "source": [
    "# To check most number of return of particular product\n",
    "return_product = df_clean[df_clean['Reason for Credit Entry']=='Return'].groupby(['Product Name','Gender']).size().reset_index().rename(columns={0:'counts'})\n",
    "print(return_product)"
   ]
  },
  {
   "cell_type": "markdown",
   "id": "e121c5dc",
   "metadata": {},
   "source": [
    "# Observation\n",
    "As we see above table it shown that maximum number of product returned and also check it by gender wise."
   ]
  },
  {
   "cell_type": "code",
   "execution_count": 70,
   "id": "c97a84df",
   "metadata": {
    "scrolled": true
   },
   "outputs": [
    {
     "data": {
      "application/vnd.plotly.v1+json": {
       "config": {
        "plotlyServerURL": "https://plot.ly"
       },
       "data": [
        {
         "alignmentgroup": "True",
         "hovertemplate": "Gender=Female<br>Product Name=%{x}<br>counts=%{y}<extra></extra>",
         "legendgroup": "Female",
         "marker": {
          "color": "#636efa",
          "pattern": {
           "shape": ""
          }
         },
         "name": "Female",
         "offsetgroup": "Female",
         "orientation": "v",
         "showlegend": true,
         "textposition": "auto",
         "type": "bar",
         "x": [
          "Baby Mosquito Net",
          "Blanket",
          "Butti set",
          "Designer Mosquito Net",
          "Mosquito net",
          "Water rod"
         ],
         "xaxis": "x",
         "y": [
          1,
          3,
          1,
          4,
          29,
          1
         ],
         "yaxis": "y"
        },
        {
         "alignmentgroup": "True",
         "hovertemplate": "Gender=Male<br>Product Name=%{x}<br>counts=%{y}<extra></extra>",
         "legendgroup": "Male",
         "marker": {
          "color": "#EF553B",
          "pattern": {
           "shape": ""
          }
         },
         "name": "Male",
         "offsetgroup": "Male",
         "orientation": "v",
         "showlegend": true,
         "textposition": "auto",
         "type": "bar",
         "x": [
          "Baby Mosquito Net",
          "Beanie cap",
          "Blanket",
          "DIXCY SCOTT VICTOR DURBY VEST",
          "Designer Mosquito Net",
          "Diaper",
          "JOCKEY PRINT  BRIEFS",
          "JOCKEY VEST",
          "MACROMAN PRINTED TRUNK",
          "Mangalsutra",
          "Mosquito net",
          "Panty",
          "Water rod"
         ],
         "xaxis": "x",
         "y": [
          1,
          1,
          4,
          2,
          4,
          1,
          1,
          2,
          1,
          1,
          45,
          1,
          1
         ],
         "yaxis": "y"
        }
       ],
       "layout": {
        "barmode": "relative",
        "legend": {
         "title": {
          "text": "Gender"
         },
         "tracegroupgap": 0
        },
        "margin": {
         "t": 60
        },
        "template": {
         "data": {
          "bar": [
           {
            "error_x": {
             "color": "#2a3f5f"
            },
            "error_y": {
             "color": "#2a3f5f"
            },
            "marker": {
             "line": {
              "color": "#E5ECF6",
              "width": 0.5
             },
             "pattern": {
              "fillmode": "overlay",
              "size": 10,
              "solidity": 0.2
             }
            },
            "type": "bar"
           }
          ],
          "barpolar": [
           {
            "marker": {
             "line": {
              "color": "#E5ECF6",
              "width": 0.5
             },
             "pattern": {
              "fillmode": "overlay",
              "size": 10,
              "solidity": 0.2
             }
            },
            "type": "barpolar"
           }
          ],
          "carpet": [
           {
            "aaxis": {
             "endlinecolor": "#2a3f5f",
             "gridcolor": "white",
             "linecolor": "white",
             "minorgridcolor": "white",
             "startlinecolor": "#2a3f5f"
            },
            "baxis": {
             "endlinecolor": "#2a3f5f",
             "gridcolor": "white",
             "linecolor": "white",
             "minorgridcolor": "white",
             "startlinecolor": "#2a3f5f"
            },
            "type": "carpet"
           }
          ],
          "choropleth": [
           {
            "colorbar": {
             "outlinewidth": 0,
             "ticks": ""
            },
            "type": "choropleth"
           }
          ],
          "contour": [
           {
            "colorbar": {
             "outlinewidth": 0,
             "ticks": ""
            },
            "colorscale": [
             [
              0,
              "#0d0887"
             ],
             [
              0.1111111111111111,
              "#46039f"
             ],
             [
              0.2222222222222222,
              "#7201a8"
             ],
             [
              0.3333333333333333,
              "#9c179e"
             ],
             [
              0.4444444444444444,
              "#bd3786"
             ],
             [
              0.5555555555555556,
              "#d8576b"
             ],
             [
              0.6666666666666666,
              "#ed7953"
             ],
             [
              0.7777777777777778,
              "#fb9f3a"
             ],
             [
              0.8888888888888888,
              "#fdca26"
             ],
             [
              1,
              "#f0f921"
             ]
            ],
            "type": "contour"
           }
          ],
          "contourcarpet": [
           {
            "colorbar": {
             "outlinewidth": 0,
             "ticks": ""
            },
            "type": "contourcarpet"
           }
          ],
          "heatmap": [
           {
            "colorbar": {
             "outlinewidth": 0,
             "ticks": ""
            },
            "colorscale": [
             [
              0,
              "#0d0887"
             ],
             [
              0.1111111111111111,
              "#46039f"
             ],
             [
              0.2222222222222222,
              "#7201a8"
             ],
             [
              0.3333333333333333,
              "#9c179e"
             ],
             [
              0.4444444444444444,
              "#bd3786"
             ],
             [
              0.5555555555555556,
              "#d8576b"
             ],
             [
              0.6666666666666666,
              "#ed7953"
             ],
             [
              0.7777777777777778,
              "#fb9f3a"
             ],
             [
              0.8888888888888888,
              "#fdca26"
             ],
             [
              1,
              "#f0f921"
             ]
            ],
            "type": "heatmap"
           }
          ],
          "heatmapgl": [
           {
            "colorbar": {
             "outlinewidth": 0,
             "ticks": ""
            },
            "colorscale": [
             [
              0,
              "#0d0887"
             ],
             [
              0.1111111111111111,
              "#46039f"
             ],
             [
              0.2222222222222222,
              "#7201a8"
             ],
             [
              0.3333333333333333,
              "#9c179e"
             ],
             [
              0.4444444444444444,
              "#bd3786"
             ],
             [
              0.5555555555555556,
              "#d8576b"
             ],
             [
              0.6666666666666666,
              "#ed7953"
             ],
             [
              0.7777777777777778,
              "#fb9f3a"
             ],
             [
              0.8888888888888888,
              "#fdca26"
             ],
             [
              1,
              "#f0f921"
             ]
            ],
            "type": "heatmapgl"
           }
          ],
          "histogram": [
           {
            "marker": {
             "pattern": {
              "fillmode": "overlay",
              "size": 10,
              "solidity": 0.2
             }
            },
            "type": "histogram"
           }
          ],
          "histogram2d": [
           {
            "colorbar": {
             "outlinewidth": 0,
             "ticks": ""
            },
            "colorscale": [
             [
              0,
              "#0d0887"
             ],
             [
              0.1111111111111111,
              "#46039f"
             ],
             [
              0.2222222222222222,
              "#7201a8"
             ],
             [
              0.3333333333333333,
              "#9c179e"
             ],
             [
              0.4444444444444444,
              "#bd3786"
             ],
             [
              0.5555555555555556,
              "#d8576b"
             ],
             [
              0.6666666666666666,
              "#ed7953"
             ],
             [
              0.7777777777777778,
              "#fb9f3a"
             ],
             [
              0.8888888888888888,
              "#fdca26"
             ],
             [
              1,
              "#f0f921"
             ]
            ],
            "type": "histogram2d"
           }
          ],
          "histogram2dcontour": [
           {
            "colorbar": {
             "outlinewidth": 0,
             "ticks": ""
            },
            "colorscale": [
             [
              0,
              "#0d0887"
             ],
             [
              0.1111111111111111,
              "#46039f"
             ],
             [
              0.2222222222222222,
              "#7201a8"
             ],
             [
              0.3333333333333333,
              "#9c179e"
             ],
             [
              0.4444444444444444,
              "#bd3786"
             ],
             [
              0.5555555555555556,
              "#d8576b"
             ],
             [
              0.6666666666666666,
              "#ed7953"
             ],
             [
              0.7777777777777778,
              "#fb9f3a"
             ],
             [
              0.8888888888888888,
              "#fdca26"
             ],
             [
              1,
              "#f0f921"
             ]
            ],
            "type": "histogram2dcontour"
           }
          ],
          "mesh3d": [
           {
            "colorbar": {
             "outlinewidth": 0,
             "ticks": ""
            },
            "type": "mesh3d"
           }
          ],
          "parcoords": [
           {
            "line": {
             "colorbar": {
              "outlinewidth": 0,
              "ticks": ""
             }
            },
            "type": "parcoords"
           }
          ],
          "pie": [
           {
            "automargin": true,
            "type": "pie"
           }
          ],
          "scatter": [
           {
            "marker": {
             "colorbar": {
              "outlinewidth": 0,
              "ticks": ""
             }
            },
            "type": "scatter"
           }
          ],
          "scatter3d": [
           {
            "line": {
             "colorbar": {
              "outlinewidth": 0,
              "ticks": ""
             }
            },
            "marker": {
             "colorbar": {
              "outlinewidth": 0,
              "ticks": ""
             }
            },
            "type": "scatter3d"
           }
          ],
          "scattercarpet": [
           {
            "marker": {
             "colorbar": {
              "outlinewidth": 0,
              "ticks": ""
             }
            },
            "type": "scattercarpet"
           }
          ],
          "scattergeo": [
           {
            "marker": {
             "colorbar": {
              "outlinewidth": 0,
              "ticks": ""
             }
            },
            "type": "scattergeo"
           }
          ],
          "scattergl": [
           {
            "marker": {
             "colorbar": {
              "outlinewidth": 0,
              "ticks": ""
             }
            },
            "type": "scattergl"
           }
          ],
          "scattermapbox": [
           {
            "marker": {
             "colorbar": {
              "outlinewidth": 0,
              "ticks": ""
             }
            },
            "type": "scattermapbox"
           }
          ],
          "scatterpolar": [
           {
            "marker": {
             "colorbar": {
              "outlinewidth": 0,
              "ticks": ""
             }
            },
            "type": "scatterpolar"
           }
          ],
          "scatterpolargl": [
           {
            "marker": {
             "colorbar": {
              "outlinewidth": 0,
              "ticks": ""
             }
            },
            "type": "scatterpolargl"
           }
          ],
          "scatterternary": [
           {
            "marker": {
             "colorbar": {
              "outlinewidth": 0,
              "ticks": ""
             }
            },
            "type": "scatterternary"
           }
          ],
          "surface": [
           {
            "colorbar": {
             "outlinewidth": 0,
             "ticks": ""
            },
            "colorscale": [
             [
              0,
              "#0d0887"
             ],
             [
              0.1111111111111111,
              "#46039f"
             ],
             [
              0.2222222222222222,
              "#7201a8"
             ],
             [
              0.3333333333333333,
              "#9c179e"
             ],
             [
              0.4444444444444444,
              "#bd3786"
             ],
             [
              0.5555555555555556,
              "#d8576b"
             ],
             [
              0.6666666666666666,
              "#ed7953"
             ],
             [
              0.7777777777777778,
              "#fb9f3a"
             ],
             [
              0.8888888888888888,
              "#fdca26"
             ],
             [
              1,
              "#f0f921"
             ]
            ],
            "type": "surface"
           }
          ],
          "table": [
           {
            "cells": {
             "fill": {
              "color": "#EBF0F8"
             },
             "line": {
              "color": "white"
             }
            },
            "header": {
             "fill": {
              "color": "#C8D4E3"
             },
             "line": {
              "color": "white"
             }
            },
            "type": "table"
           }
          ]
         },
         "layout": {
          "annotationdefaults": {
           "arrowcolor": "#2a3f5f",
           "arrowhead": 0,
           "arrowwidth": 1
          },
          "autotypenumbers": "strict",
          "coloraxis": {
           "colorbar": {
            "outlinewidth": 0,
            "ticks": ""
           }
          },
          "colorscale": {
           "diverging": [
            [
             0,
             "#8e0152"
            ],
            [
             0.1,
             "#c51b7d"
            ],
            [
             0.2,
             "#de77ae"
            ],
            [
             0.3,
             "#f1b6da"
            ],
            [
             0.4,
             "#fde0ef"
            ],
            [
             0.5,
             "#f7f7f7"
            ],
            [
             0.6,
             "#e6f5d0"
            ],
            [
             0.7,
             "#b8e186"
            ],
            [
             0.8,
             "#7fbc41"
            ],
            [
             0.9,
             "#4d9221"
            ],
            [
             1,
             "#276419"
            ]
           ],
           "sequential": [
            [
             0,
             "#0d0887"
            ],
            [
             0.1111111111111111,
             "#46039f"
            ],
            [
             0.2222222222222222,
             "#7201a8"
            ],
            [
             0.3333333333333333,
             "#9c179e"
            ],
            [
             0.4444444444444444,
             "#bd3786"
            ],
            [
             0.5555555555555556,
             "#d8576b"
            ],
            [
             0.6666666666666666,
             "#ed7953"
            ],
            [
             0.7777777777777778,
             "#fb9f3a"
            ],
            [
             0.8888888888888888,
             "#fdca26"
            ],
            [
             1,
             "#f0f921"
            ]
           ],
           "sequentialminus": [
            [
             0,
             "#0d0887"
            ],
            [
             0.1111111111111111,
             "#46039f"
            ],
            [
             0.2222222222222222,
             "#7201a8"
            ],
            [
             0.3333333333333333,
             "#9c179e"
            ],
            [
             0.4444444444444444,
             "#bd3786"
            ],
            [
             0.5555555555555556,
             "#d8576b"
            ],
            [
             0.6666666666666666,
             "#ed7953"
            ],
            [
             0.7777777777777778,
             "#fb9f3a"
            ],
            [
             0.8888888888888888,
             "#fdca26"
            ],
            [
             1,
             "#f0f921"
            ]
           ]
          },
          "colorway": [
           "#636efa",
           "#EF553B",
           "#00cc96",
           "#ab63fa",
           "#FFA15A",
           "#19d3f3",
           "#FF6692",
           "#B6E880",
           "#FF97FF",
           "#FECB52"
          ],
          "font": {
           "color": "#2a3f5f"
          },
          "geo": {
           "bgcolor": "white",
           "lakecolor": "white",
           "landcolor": "#E5ECF6",
           "showlakes": true,
           "showland": true,
           "subunitcolor": "white"
          },
          "hoverlabel": {
           "align": "left"
          },
          "hovermode": "closest",
          "mapbox": {
           "style": "light"
          },
          "paper_bgcolor": "white",
          "plot_bgcolor": "#E5ECF6",
          "polar": {
           "angularaxis": {
            "gridcolor": "white",
            "linecolor": "white",
            "ticks": ""
           },
           "bgcolor": "#E5ECF6",
           "radialaxis": {
            "gridcolor": "white",
            "linecolor": "white",
            "ticks": ""
           }
          },
          "scene": {
           "xaxis": {
            "backgroundcolor": "#E5ECF6",
            "gridcolor": "white",
            "gridwidth": 2,
            "linecolor": "white",
            "showbackground": true,
            "ticks": "",
            "zerolinecolor": "white"
           },
           "yaxis": {
            "backgroundcolor": "#E5ECF6",
            "gridcolor": "white",
            "gridwidth": 2,
            "linecolor": "white",
            "showbackground": true,
            "ticks": "",
            "zerolinecolor": "white"
           },
           "zaxis": {
            "backgroundcolor": "#E5ECF6",
            "gridcolor": "white",
            "gridwidth": 2,
            "linecolor": "white",
            "showbackground": true,
            "ticks": "",
            "zerolinecolor": "white"
           }
          },
          "shapedefaults": {
           "line": {
            "color": "#2a3f5f"
           }
          },
          "ternary": {
           "aaxis": {
            "gridcolor": "white",
            "linecolor": "white",
            "ticks": ""
           },
           "baxis": {
            "gridcolor": "white",
            "linecolor": "white",
            "ticks": ""
           },
           "bgcolor": "#E5ECF6",
           "caxis": {
            "gridcolor": "white",
            "linecolor": "white",
            "ticks": ""
           }
          },
          "title": {
           "x": 0.05
          },
          "xaxis": {
           "automargin": true,
           "gridcolor": "white",
           "linecolor": "white",
           "ticks": "",
           "title": {
            "standoff": 15
           },
           "zerolinecolor": "white",
           "zerolinewidth": 2
          },
          "yaxis": {
           "automargin": true,
           "gridcolor": "white",
           "linecolor": "white",
           "ticks": "",
           "title": {
            "standoff": 15
           },
           "zerolinecolor": "white",
           "zerolinewidth": 2
          }
         }
        },
        "xaxis": {
         "anchor": "y",
         "domain": [
          0,
          1
         ],
         "title": {
          "text": "Product Name"
         }
        },
        "yaxis": {
         "anchor": "x",
         "domain": [
          0,
          1
         ],
         "title": {
          "text": "counts"
         }
        }
       }
      },
      "text/html": [
       "<div>                            <div id=\"71acabbc-3cec-42a5-9bf6-2f7023f8ffae\" class=\"plotly-graph-div\" style=\"height:525px; width:100%;\"></div>            <script type=\"text/javascript\">                require([\"plotly\"], function(Plotly) {                    window.PLOTLYENV=window.PLOTLYENV || {};                                    if (document.getElementById(\"71acabbc-3cec-42a5-9bf6-2f7023f8ffae\")) {                    Plotly.newPlot(                        \"71acabbc-3cec-42a5-9bf6-2f7023f8ffae\",                        [{\"alignmentgroup\":\"True\",\"hovertemplate\":\"Gender=Female<br>Product Name=%{x}<br>counts=%{y}<extra></extra>\",\"legendgroup\":\"Female\",\"marker\":{\"color\":\"#636efa\",\"pattern\":{\"shape\":\"\"}},\"name\":\"Female\",\"offsetgroup\":\"Female\",\"orientation\":\"v\",\"showlegend\":true,\"textposition\":\"auto\",\"x\":[\"Baby Mosquito Net\",\"Blanket\",\"Butti set\",\"Designer Mosquito Net\",\"Mosquito net\",\"Water rod\"],\"xaxis\":\"x\",\"y\":[1,3,1,4,29,1],\"yaxis\":\"y\",\"type\":\"bar\"},{\"alignmentgroup\":\"True\",\"hovertemplate\":\"Gender=Male<br>Product Name=%{x}<br>counts=%{y}<extra></extra>\",\"legendgroup\":\"Male\",\"marker\":{\"color\":\"#EF553B\",\"pattern\":{\"shape\":\"\"}},\"name\":\"Male\",\"offsetgroup\":\"Male\",\"orientation\":\"v\",\"showlegend\":true,\"textposition\":\"auto\",\"x\":[\"Baby Mosquito Net\",\"Beanie cap\",\"Blanket\",\"DIXCY SCOTT VICTOR DURBY VEST\",\"Designer Mosquito Net\",\"Diaper\",\"JOCKEY PRINT  BRIEFS\",\"JOCKEY VEST\",\"MACROMAN PRINTED TRUNK\",\"Mangalsutra\",\"Mosquito net\",\"Panty\",\"Water rod\"],\"xaxis\":\"x\",\"y\":[1,1,4,2,4,1,1,2,1,1,45,1,1],\"yaxis\":\"y\",\"type\":\"bar\"}],                        {\"template\":{\"data\":{\"bar\":[{\"error_x\":{\"color\":\"#2a3f5f\"},\"error_y\":{\"color\":\"#2a3f5f\"},\"marker\":{\"line\":{\"color\":\"#E5ECF6\",\"width\":0.5},\"pattern\":{\"fillmode\":\"overlay\",\"size\":10,\"solidity\":0.2}},\"type\":\"bar\"}],\"barpolar\":[{\"marker\":{\"line\":{\"color\":\"#E5ECF6\",\"width\":0.5},\"pattern\":{\"fillmode\":\"overlay\",\"size\":10,\"solidity\":0.2}},\"type\":\"barpolar\"}],\"carpet\":[{\"aaxis\":{\"endlinecolor\":\"#2a3f5f\",\"gridcolor\":\"white\",\"linecolor\":\"white\",\"minorgridcolor\":\"white\",\"startlinecolor\":\"#2a3f5f\"},\"baxis\":{\"endlinecolor\":\"#2a3f5f\",\"gridcolor\":\"white\",\"linecolor\":\"white\",\"minorgridcolor\":\"white\",\"startlinecolor\":\"#2a3f5f\"},\"type\":\"carpet\"}],\"choropleth\":[{\"colorbar\":{\"outlinewidth\":0,\"ticks\":\"\"},\"type\":\"choropleth\"}],\"contour\":[{\"colorbar\":{\"outlinewidth\":0,\"ticks\":\"\"},\"colorscale\":[[0.0,\"#0d0887\"],[0.1111111111111111,\"#46039f\"],[0.2222222222222222,\"#7201a8\"],[0.3333333333333333,\"#9c179e\"],[0.4444444444444444,\"#bd3786\"],[0.5555555555555556,\"#d8576b\"],[0.6666666666666666,\"#ed7953\"],[0.7777777777777778,\"#fb9f3a\"],[0.8888888888888888,\"#fdca26\"],[1.0,\"#f0f921\"]],\"type\":\"contour\"}],\"contourcarpet\":[{\"colorbar\":{\"outlinewidth\":0,\"ticks\":\"\"},\"type\":\"contourcarpet\"}],\"heatmap\":[{\"colorbar\":{\"outlinewidth\":0,\"ticks\":\"\"},\"colorscale\":[[0.0,\"#0d0887\"],[0.1111111111111111,\"#46039f\"],[0.2222222222222222,\"#7201a8\"],[0.3333333333333333,\"#9c179e\"],[0.4444444444444444,\"#bd3786\"],[0.5555555555555556,\"#d8576b\"],[0.6666666666666666,\"#ed7953\"],[0.7777777777777778,\"#fb9f3a\"],[0.8888888888888888,\"#fdca26\"],[1.0,\"#f0f921\"]],\"type\":\"heatmap\"}],\"heatmapgl\":[{\"colorbar\":{\"outlinewidth\":0,\"ticks\":\"\"},\"colorscale\":[[0.0,\"#0d0887\"],[0.1111111111111111,\"#46039f\"],[0.2222222222222222,\"#7201a8\"],[0.3333333333333333,\"#9c179e\"],[0.4444444444444444,\"#bd3786\"],[0.5555555555555556,\"#d8576b\"],[0.6666666666666666,\"#ed7953\"],[0.7777777777777778,\"#fb9f3a\"],[0.8888888888888888,\"#fdca26\"],[1.0,\"#f0f921\"]],\"type\":\"heatmapgl\"}],\"histogram\":[{\"marker\":{\"pattern\":{\"fillmode\":\"overlay\",\"size\":10,\"solidity\":0.2}},\"type\":\"histogram\"}],\"histogram2d\":[{\"colorbar\":{\"outlinewidth\":0,\"ticks\":\"\"},\"colorscale\":[[0.0,\"#0d0887\"],[0.1111111111111111,\"#46039f\"],[0.2222222222222222,\"#7201a8\"],[0.3333333333333333,\"#9c179e\"],[0.4444444444444444,\"#bd3786\"],[0.5555555555555556,\"#d8576b\"],[0.6666666666666666,\"#ed7953\"],[0.7777777777777778,\"#fb9f3a\"],[0.8888888888888888,\"#fdca26\"],[1.0,\"#f0f921\"]],\"type\":\"histogram2d\"}],\"histogram2dcontour\":[{\"colorbar\":{\"outlinewidth\":0,\"ticks\":\"\"},\"colorscale\":[[0.0,\"#0d0887\"],[0.1111111111111111,\"#46039f\"],[0.2222222222222222,\"#7201a8\"],[0.3333333333333333,\"#9c179e\"],[0.4444444444444444,\"#bd3786\"],[0.5555555555555556,\"#d8576b\"],[0.6666666666666666,\"#ed7953\"],[0.7777777777777778,\"#fb9f3a\"],[0.8888888888888888,\"#fdca26\"],[1.0,\"#f0f921\"]],\"type\":\"histogram2dcontour\"}],\"mesh3d\":[{\"colorbar\":{\"outlinewidth\":0,\"ticks\":\"\"},\"type\":\"mesh3d\"}],\"parcoords\":[{\"line\":{\"colorbar\":{\"outlinewidth\":0,\"ticks\":\"\"}},\"type\":\"parcoords\"}],\"pie\":[{\"automargin\":true,\"type\":\"pie\"}],\"scatter\":[{\"marker\":{\"colorbar\":{\"outlinewidth\":0,\"ticks\":\"\"}},\"type\":\"scatter\"}],\"scatter3d\":[{\"line\":{\"colorbar\":{\"outlinewidth\":0,\"ticks\":\"\"}},\"marker\":{\"colorbar\":{\"outlinewidth\":0,\"ticks\":\"\"}},\"type\":\"scatter3d\"}],\"scattercarpet\":[{\"marker\":{\"colorbar\":{\"outlinewidth\":0,\"ticks\":\"\"}},\"type\":\"scattercarpet\"}],\"scattergeo\":[{\"marker\":{\"colorbar\":{\"outlinewidth\":0,\"ticks\":\"\"}},\"type\":\"scattergeo\"}],\"scattergl\":[{\"marker\":{\"colorbar\":{\"outlinewidth\":0,\"ticks\":\"\"}},\"type\":\"scattergl\"}],\"scattermapbox\":[{\"marker\":{\"colorbar\":{\"outlinewidth\":0,\"ticks\":\"\"}},\"type\":\"scattermapbox\"}],\"scatterpolar\":[{\"marker\":{\"colorbar\":{\"outlinewidth\":0,\"ticks\":\"\"}},\"type\":\"scatterpolar\"}],\"scatterpolargl\":[{\"marker\":{\"colorbar\":{\"outlinewidth\":0,\"ticks\":\"\"}},\"type\":\"scatterpolargl\"}],\"scatterternary\":[{\"marker\":{\"colorbar\":{\"outlinewidth\":0,\"ticks\":\"\"}},\"type\":\"scatterternary\"}],\"surface\":[{\"colorbar\":{\"outlinewidth\":0,\"ticks\":\"\"},\"colorscale\":[[0.0,\"#0d0887\"],[0.1111111111111111,\"#46039f\"],[0.2222222222222222,\"#7201a8\"],[0.3333333333333333,\"#9c179e\"],[0.4444444444444444,\"#bd3786\"],[0.5555555555555556,\"#d8576b\"],[0.6666666666666666,\"#ed7953\"],[0.7777777777777778,\"#fb9f3a\"],[0.8888888888888888,\"#fdca26\"],[1.0,\"#f0f921\"]],\"type\":\"surface\"}],\"table\":[{\"cells\":{\"fill\":{\"color\":\"#EBF0F8\"},\"line\":{\"color\":\"white\"}},\"header\":{\"fill\":{\"color\":\"#C8D4E3\"},\"line\":{\"color\":\"white\"}},\"type\":\"table\"}]},\"layout\":{\"annotationdefaults\":{\"arrowcolor\":\"#2a3f5f\",\"arrowhead\":0,\"arrowwidth\":1},\"autotypenumbers\":\"strict\",\"coloraxis\":{\"colorbar\":{\"outlinewidth\":0,\"ticks\":\"\"}},\"colorscale\":{\"diverging\":[[0,\"#8e0152\"],[0.1,\"#c51b7d\"],[0.2,\"#de77ae\"],[0.3,\"#f1b6da\"],[0.4,\"#fde0ef\"],[0.5,\"#f7f7f7\"],[0.6,\"#e6f5d0\"],[0.7,\"#b8e186\"],[0.8,\"#7fbc41\"],[0.9,\"#4d9221\"],[1,\"#276419\"]],\"sequential\":[[0.0,\"#0d0887\"],[0.1111111111111111,\"#46039f\"],[0.2222222222222222,\"#7201a8\"],[0.3333333333333333,\"#9c179e\"],[0.4444444444444444,\"#bd3786\"],[0.5555555555555556,\"#d8576b\"],[0.6666666666666666,\"#ed7953\"],[0.7777777777777778,\"#fb9f3a\"],[0.8888888888888888,\"#fdca26\"],[1.0,\"#f0f921\"]],\"sequentialminus\":[[0.0,\"#0d0887\"],[0.1111111111111111,\"#46039f\"],[0.2222222222222222,\"#7201a8\"],[0.3333333333333333,\"#9c179e\"],[0.4444444444444444,\"#bd3786\"],[0.5555555555555556,\"#d8576b\"],[0.6666666666666666,\"#ed7953\"],[0.7777777777777778,\"#fb9f3a\"],[0.8888888888888888,\"#fdca26\"],[1.0,\"#f0f921\"]]},\"colorway\":[\"#636efa\",\"#EF553B\",\"#00cc96\",\"#ab63fa\",\"#FFA15A\",\"#19d3f3\",\"#FF6692\",\"#B6E880\",\"#FF97FF\",\"#FECB52\"],\"font\":{\"color\":\"#2a3f5f\"},\"geo\":{\"bgcolor\":\"white\",\"lakecolor\":\"white\",\"landcolor\":\"#E5ECF6\",\"showlakes\":true,\"showland\":true,\"subunitcolor\":\"white\"},\"hoverlabel\":{\"align\":\"left\"},\"hovermode\":\"closest\",\"mapbox\":{\"style\":\"light\"},\"paper_bgcolor\":\"white\",\"plot_bgcolor\":\"#E5ECF6\",\"polar\":{\"angularaxis\":{\"gridcolor\":\"white\",\"linecolor\":\"white\",\"ticks\":\"\"},\"bgcolor\":\"#E5ECF6\",\"radialaxis\":{\"gridcolor\":\"white\",\"linecolor\":\"white\",\"ticks\":\"\"}},\"scene\":{\"xaxis\":{\"backgroundcolor\":\"#E5ECF6\",\"gridcolor\":\"white\",\"gridwidth\":2,\"linecolor\":\"white\",\"showbackground\":true,\"ticks\":\"\",\"zerolinecolor\":\"white\"},\"yaxis\":{\"backgroundcolor\":\"#E5ECF6\",\"gridcolor\":\"white\",\"gridwidth\":2,\"linecolor\":\"white\",\"showbackground\":true,\"ticks\":\"\",\"zerolinecolor\":\"white\"},\"zaxis\":{\"backgroundcolor\":\"#E5ECF6\",\"gridcolor\":\"white\",\"gridwidth\":2,\"linecolor\":\"white\",\"showbackground\":true,\"ticks\":\"\",\"zerolinecolor\":\"white\"}},\"shapedefaults\":{\"line\":{\"color\":\"#2a3f5f\"}},\"ternary\":{\"aaxis\":{\"gridcolor\":\"white\",\"linecolor\":\"white\",\"ticks\":\"\"},\"baxis\":{\"gridcolor\":\"white\",\"linecolor\":\"white\",\"ticks\":\"\"},\"bgcolor\":\"#E5ECF6\",\"caxis\":{\"gridcolor\":\"white\",\"linecolor\":\"white\",\"ticks\":\"\"}},\"title\":{\"x\":0.05},\"xaxis\":{\"automargin\":true,\"gridcolor\":\"white\",\"linecolor\":\"white\",\"ticks\":\"\",\"title\":{\"standoff\":15},\"zerolinecolor\":\"white\",\"zerolinewidth\":2},\"yaxis\":{\"automargin\":true,\"gridcolor\":\"white\",\"linecolor\":\"white\",\"ticks\":\"\",\"title\":{\"standoff\":15},\"zerolinecolor\":\"white\",\"zerolinewidth\":2}}},\"xaxis\":{\"anchor\":\"y\",\"domain\":[0.0,1.0],\"title\":{\"text\":\"Product Name\"}},\"yaxis\":{\"anchor\":\"x\",\"domain\":[0.0,1.0],\"title\":{\"text\":\"counts\"}},\"legend\":{\"title\":{\"text\":\"Gender\"},\"tracegroupgap\":0},\"margin\":{\"t\":60},\"barmode\":\"relative\"},                        {\"responsive\": true}                    ).then(function(){\n",
       "                            \n",
       "var gd = document.getElementById('71acabbc-3cec-42a5-9bf6-2f7023f8ffae');\n",
       "var x = new MutationObserver(function (mutations, observer) {{\n",
       "        var display = window.getComputedStyle(gd).display;\n",
       "        if (!display || display === 'none') {{\n",
       "            console.log([gd, 'removed!']);\n",
       "            Plotly.purge(gd);\n",
       "            observer.disconnect();\n",
       "        }}\n",
       "}});\n",
       "\n",
       "// Listen for the removal of the full notebook cells\n",
       "var notebookContainer = gd.closest('#notebook-container');\n",
       "if (notebookContainer) {{\n",
       "    x.observe(notebookContainer, {childList: true});\n",
       "}}\n",
       "\n",
       "// Listen for the clearing of the current output cell\n",
       "var outputEl = gd.closest('.output');\n",
       "if (outputEl) {{\n",
       "    x.observe(outputEl, {childList: true});\n",
       "}}\n",
       "\n",
       "                        })                };                });            </script>        </div>"
      ]
     },
     "metadata": {},
     "output_type": "display_data"
    }
   ],
   "source": [
    "# Visualisation of return product with graph\n",
    "graph_returned = px.bar(return_product,x='Product Name',y='counts',color='Gender')\n",
    "graph_returned.show()"
   ]
  },
  {
   "cell_type": "code",
   "execution_count": 22,
   "id": "22185378",
   "metadata": {},
   "outputs": [
    {
     "data": {
      "text/html": [
       "<div>\n",
       "<style scoped>\n",
       "    .dataframe tbody tr th:only-of-type {\n",
       "        vertical-align: middle;\n",
       "    }\n",
       "\n",
       "    .dataframe tbody tr th {\n",
       "        vertical-align: top;\n",
       "    }\n",
       "\n",
       "    .dataframe thead th {\n",
       "        text-align: right;\n",
       "    }\n",
       "</style>\n",
       "<table border=\"1\" class=\"dataframe\">\n",
       "  <thead>\n",
       "    <tr style=\"text-align: right;\">\n",
       "      <th></th>\n",
       "      <th>Reason for Credit Entry</th>\n",
       "      <th>Gender</th>\n",
       "      <th>Reseller State</th>\n",
       "      <th>Product Name</th>\n",
       "      <th>Size</th>\n",
       "      <th>Quantity</th>\n",
       "      <th>cost</th>\n",
       "      <th>discount</th>\n",
       "    </tr>\n",
       "  </thead>\n",
       "  <tbody>\n",
       "    <tr>\n",
       "      <th>1</th>\n",
       "      <td>Delivered</td>\n",
       "      <td>Male</td>\n",
       "      <td>Tamil Nadu</td>\n",
       "      <td>Mosquito net</td>\n",
       "      <td>Free Size</td>\n",
       "      <td>1.0</td>\n",
       "      <td>343.0</td>\n",
       "      <td>0.0</td>\n",
       "    </tr>\n",
       "    <tr>\n",
       "      <th>2</th>\n",
       "      <td>Delivered</td>\n",
       "      <td>Male</td>\n",
       "      <td>Andhra Pradesh</td>\n",
       "      <td>Mosquito net</td>\n",
       "      <td>Free Size</td>\n",
       "      <td>1.0</td>\n",
       "      <td>343.0</td>\n",
       "      <td>0.0</td>\n",
       "    </tr>\n",
       "    <tr>\n",
       "      <th>3</th>\n",
       "      <td>Delivered</td>\n",
       "      <td>Male</td>\n",
       "      <td>Tamil Nadu</td>\n",
       "      <td>Mosquito net</td>\n",
       "      <td>Free Size</td>\n",
       "      <td>1.0</td>\n",
       "      <td>319.0</td>\n",
       "      <td>0.0</td>\n",
       "    </tr>\n",
       "    <tr>\n",
       "      <th>4</th>\n",
       "      <td>Delivered</td>\n",
       "      <td>Male</td>\n",
       "      <td>West Bengal</td>\n",
       "      <td>Water rod</td>\n",
       "      <td>Free Size</td>\n",
       "      <td>1.0</td>\n",
       "      <td>468.0</td>\n",
       "      <td>0.0</td>\n",
       "    </tr>\n",
       "    <tr>\n",
       "      <th>5</th>\n",
       "      <td>Return</td>\n",
       "      <td>Female</td>\n",
       "      <td>Uttar Pradesh</td>\n",
       "      <td>Blanket</td>\n",
       "      <td>Single</td>\n",
       "      <td>1.0</td>\n",
       "      <td>430.0</td>\n",
       "      <td>0.0</td>\n",
       "    </tr>\n",
       "  </tbody>\n",
       "</table>\n",
       "</div>"
      ],
      "text/plain": [
       "  Reason for Credit Entry  Gender  Reseller State  Product Name       Size  \\\n",
       "1               Delivered    Male      Tamil Nadu  Mosquito net  Free Size   \n",
       "2               Delivered    Male  Andhra Pradesh  Mosquito net  Free Size   \n",
       "3               Delivered    Male      Tamil Nadu  Mosquito net  Free Size   \n",
       "4               Delivered    Male     West Bengal     Water rod  Free Size   \n",
       "5                  Return  Female   Uttar Pradesh       Blanket     Single   \n",
       "\n",
       "   Quantity   cost  discount  \n",
       "1       1.0  343.0       0.0  \n",
       "2       1.0  343.0       0.0  \n",
       "3       1.0  319.0       0.0  \n",
       "4       1.0  468.0       0.0  \n",
       "5       1.0  430.0       0.0  "
      ]
     },
     "execution_count": 22,
     "metadata": {},
     "output_type": "execute_result"
    }
   ],
   "source": [
    "df_clean.head()"
   ]
  },
  {
   "cell_type": "markdown",
   "id": "d6c1099b",
   "metadata": {},
   "source": [
    "# Handling categorical values\n",
    "Model deals only with numerical values not with categorical values.\n",
    "We need to change Reason for credit entry, State,Product name, Size and gender into numerical values"
   ]
  },
  {
   "cell_type": "code",
   "execution_count": 23,
   "id": "8b1ee7d5",
   "metadata": {},
   "outputs": [
    {
     "name": "stdout",
     "output_type": "stream",
     "text": [
      "Tamil Nadu                     208\n",
      "Karnataka                      160\n",
      "Maharashtra                    130\n",
      "West Bengal                    117\n",
      "Andhra Pradesh                 111\n",
      "Assam                          103\n",
      "Uttar Pradesh                   97\n",
      "Telangana                       93\n",
      "Kerala                          85\n",
      "Bihar                           82\n",
      "Odisha                          72\n",
      "Chhattisgarh                    42\n",
      "Jharkhand                       36\n",
      "Delhi                           33\n",
      "Arunachal Pradesh               29\n",
      "Madhya Pradesh                  25\n",
      "Gujarat                         24\n",
      "Rajasthan                       24\n",
      "Tripura                         21\n",
      "Meghalaya                       18\n",
      "Manipur                         13\n",
      "Andaman and Nicobar Islands     11\n",
      "Goa                             11\n",
      "Puducherry                      10\n",
      "Mizoram                          7\n",
      "Jammu & Kashmir                  7\n",
      "Punjab                           7\n",
      "Haryana                          6\n",
      "Nagaland                         3\n",
      "Himachal Pradesh                 2\n",
      "Uttarakhand                      2\n",
      "Karnataka                        1\n",
      "kerala                           1\n",
      "DAMAN                            1\n",
      "Name: Reseller State, dtype: int64\n"
     ]
    }
   ],
   "source": [
    "#Checking values for state in data\n",
    "print(df_clean['Reseller State'].value_counts())"
   ]
  },
  {
   "cell_type": "code",
   "execution_count": 24,
   "id": "d409dbf1",
   "metadata": {},
   "outputs": [],
   "source": [
    "#We use Frequency coding to encode Reseller state\n",
    "State_map = df_clean['Reseller State'].value_counts().to_dict()\n",
    "df_clean['Reseller State'] = df_clean['Reseller State'].map(State_map)"
   ]
  },
  {
   "cell_type": "code",
   "execution_count": 25,
   "id": "b559205f",
   "metadata": {},
   "outputs": [],
   "source": [
    "# With one hot encoding we deal gender\n",
    "df_clean['Gender'] = pd.get_dummies(df_clean['Gender'],drop_first = True)"
   ]
  },
  {
   "cell_type": "code",
   "execution_count": 26,
   "id": "4ece8826",
   "metadata": {},
   "outputs": [],
   "source": [
    "#With label encoder we can change Reason for credit entry\n",
    "Le = LabelEncoder()\n",
    "df_clean['Reason for Credit Entry'] = Le.fit_transform(df_clean['Reason for Credit Entry'])"
   ]
  },
  {
   "cell_type": "code",
   "execution_count": 27,
   "id": "31562c39",
   "metadata": {},
   "outputs": [
    {
     "data": {
      "text/plain": [
       "Free Size    1534\n",
       "Single         31\n",
       "M              10\n",
       "L              10\n",
       "S               2\n",
       "XL              2\n",
       "34              1\n",
       "30B             1\n",
       "32B             1\n",
       "Name: Size, dtype: int64"
      ]
     },
     "execution_count": 27,
     "metadata": {},
     "output_type": "execute_result"
    }
   ],
   "source": [
    "df_clean['Size'].value_counts()"
   ]
  },
  {
   "cell_type": "code",
   "execution_count": 28,
   "id": "85ae2e3a",
   "metadata": {},
   "outputs": [
    {
     "data": {
      "text/html": [
       "<div>\n",
       "<style scoped>\n",
       "    .dataframe tbody tr th:only-of-type {\n",
       "        vertical-align: middle;\n",
       "    }\n",
       "\n",
       "    .dataframe tbody tr th {\n",
       "        vertical-align: top;\n",
       "    }\n",
       "\n",
       "    .dataframe thead th {\n",
       "        text-align: right;\n",
       "    }\n",
       "</style>\n",
       "<table border=\"1\" class=\"dataframe\">\n",
       "  <thead>\n",
       "    <tr style=\"text-align: right;\">\n",
       "      <th></th>\n",
       "      <th>Reason for Credit Entry</th>\n",
       "      <th>Gender</th>\n",
       "      <th>Reseller State</th>\n",
       "      <th>Product Name</th>\n",
       "      <th>Quantity</th>\n",
       "      <th>cost</th>\n",
       "      <th>discount</th>\n",
       "      <th>32B</th>\n",
       "      <th>34</th>\n",
       "      <th>Free Size</th>\n",
       "      <th>L</th>\n",
       "      <th>M</th>\n",
       "      <th>S</th>\n",
       "      <th>Single</th>\n",
       "      <th>XL</th>\n",
       "    </tr>\n",
       "  </thead>\n",
       "  <tbody>\n",
       "    <tr>\n",
       "      <th>1</th>\n",
       "      <td>0</td>\n",
       "      <td>1</td>\n",
       "      <td>208</td>\n",
       "      <td>Mosquito net</td>\n",
       "      <td>1.0</td>\n",
       "      <td>343.0</td>\n",
       "      <td>0.0</td>\n",
       "      <td>0</td>\n",
       "      <td>0</td>\n",
       "      <td>1</td>\n",
       "      <td>0</td>\n",
       "      <td>0</td>\n",
       "      <td>0</td>\n",
       "      <td>0</td>\n",
       "      <td>0</td>\n",
       "    </tr>\n",
       "    <tr>\n",
       "      <th>2</th>\n",
       "      <td>0</td>\n",
       "      <td>1</td>\n",
       "      <td>111</td>\n",
       "      <td>Mosquito net</td>\n",
       "      <td>1.0</td>\n",
       "      <td>343.0</td>\n",
       "      <td>0.0</td>\n",
       "      <td>0</td>\n",
       "      <td>0</td>\n",
       "      <td>1</td>\n",
       "      <td>0</td>\n",
       "      <td>0</td>\n",
       "      <td>0</td>\n",
       "      <td>0</td>\n",
       "      <td>0</td>\n",
       "    </tr>\n",
       "    <tr>\n",
       "      <th>3</th>\n",
       "      <td>0</td>\n",
       "      <td>1</td>\n",
       "      <td>208</td>\n",
       "      <td>Mosquito net</td>\n",
       "      <td>1.0</td>\n",
       "      <td>319.0</td>\n",
       "      <td>0.0</td>\n",
       "      <td>0</td>\n",
       "      <td>0</td>\n",
       "      <td>1</td>\n",
       "      <td>0</td>\n",
       "      <td>0</td>\n",
       "      <td>0</td>\n",
       "      <td>0</td>\n",
       "      <td>0</td>\n",
       "    </tr>\n",
       "    <tr>\n",
       "      <th>4</th>\n",
       "      <td>0</td>\n",
       "      <td>1</td>\n",
       "      <td>117</td>\n",
       "      <td>Water rod</td>\n",
       "      <td>1.0</td>\n",
       "      <td>468.0</td>\n",
       "      <td>0.0</td>\n",
       "      <td>0</td>\n",
       "      <td>0</td>\n",
       "      <td>1</td>\n",
       "      <td>0</td>\n",
       "      <td>0</td>\n",
       "      <td>0</td>\n",
       "      <td>0</td>\n",
       "      <td>0</td>\n",
       "    </tr>\n",
       "    <tr>\n",
       "      <th>5</th>\n",
       "      <td>1</td>\n",
       "      <td>0</td>\n",
       "      <td>97</td>\n",
       "      <td>Blanket</td>\n",
       "      <td>1.0</td>\n",
       "      <td>430.0</td>\n",
       "      <td>0.0</td>\n",
       "      <td>0</td>\n",
       "      <td>0</td>\n",
       "      <td>0</td>\n",
       "      <td>0</td>\n",
       "      <td>0</td>\n",
       "      <td>0</td>\n",
       "      <td>1</td>\n",
       "      <td>0</td>\n",
       "    </tr>\n",
       "  </tbody>\n",
       "</table>\n",
       "</div>"
      ],
      "text/plain": [
       "   Reason for Credit Entry  Gender  Reseller State  Product Name  Quantity  \\\n",
       "1                        0       1             208  Mosquito net       1.0   \n",
       "2                        0       1             111  Mosquito net       1.0   \n",
       "3                        0       1             208  Mosquito net       1.0   \n",
       "4                        0       1             117     Water rod       1.0   \n",
       "5                        1       0              97       Blanket       1.0   \n",
       "\n",
       "    cost  discount  32B  34  Free Size  L  M  S  Single  XL  \n",
       "1  343.0       0.0    0   0          1  0  0  0       0   0  \n",
       "2  343.0       0.0    0   0          1  0  0  0       0   0  \n",
       "3  319.0       0.0    0   0          1  0  0  0       0   0  \n",
       "4  468.0       0.0    0   0          1  0  0  0       0   0  \n",
       "5  430.0       0.0    0   0          0  0  0  0       1   0  "
      ]
     },
     "execution_count": 28,
     "metadata": {},
     "output_type": "execute_result"
    }
   ],
   "source": [
    "# Category for Size is not high so i prefer one hot encoding for it\n",
    "dummy = pd.get_dummies(df_clean['Size'],drop_first = True)\n",
    "df_clean = pd.concat([df_clean,dummy],axis=1)\n",
    "df_clean = df_clean.drop(['Size'],axis=1)\n",
    "df_clean.head()"
   ]
  },
  {
   "cell_type": "code",
   "execution_count": 29,
   "id": "581378d9",
   "metadata": {},
   "outputs": [
    {
     "data": {
      "text/html": [
       "<div>\n",
       "<style scoped>\n",
       "    .dataframe tbody tr th:only-of-type {\n",
       "        vertical-align: middle;\n",
       "    }\n",
       "\n",
       "    .dataframe tbody tr th {\n",
       "        vertical-align: top;\n",
       "    }\n",
       "\n",
       "    .dataframe thead th {\n",
       "        text-align: right;\n",
       "    }\n",
       "</style>\n",
       "<table border=\"1\" class=\"dataframe\">\n",
       "  <thead>\n",
       "    <tr style=\"text-align: right;\">\n",
       "      <th></th>\n",
       "      <th>Reason for Credit Entry</th>\n",
       "      <th>Gender</th>\n",
       "      <th>Reseller State</th>\n",
       "      <th>Product Name</th>\n",
       "      <th>Quantity</th>\n",
       "      <th>cost</th>\n",
       "      <th>discount</th>\n",
       "      <th>32B</th>\n",
       "      <th>34</th>\n",
       "      <th>Free Size</th>\n",
       "      <th>L</th>\n",
       "      <th>M</th>\n",
       "      <th>S</th>\n",
       "      <th>Single</th>\n",
       "      <th>XL</th>\n",
       "    </tr>\n",
       "  </thead>\n",
       "  <tbody>\n",
       "    <tr>\n",
       "      <th>1</th>\n",
       "      <td>0</td>\n",
       "      <td>1</td>\n",
       "      <td>208</td>\n",
       "      <td>0.060705</td>\n",
       "      <td>1.0</td>\n",
       "      <td>343.0</td>\n",
       "      <td>0.0</td>\n",
       "      <td>0</td>\n",
       "      <td>0</td>\n",
       "      <td>1</td>\n",
       "      <td>0</td>\n",
       "      <td>0</td>\n",
       "      <td>0</td>\n",
       "      <td>0</td>\n",
       "      <td>0</td>\n",
       "    </tr>\n",
       "    <tr>\n",
       "      <th>2</th>\n",
       "      <td>0</td>\n",
       "      <td>1</td>\n",
       "      <td>111</td>\n",
       "      <td>0.060705</td>\n",
       "      <td>1.0</td>\n",
       "      <td>343.0</td>\n",
       "      <td>0.0</td>\n",
       "      <td>0</td>\n",
       "      <td>0</td>\n",
       "      <td>1</td>\n",
       "      <td>0</td>\n",
       "      <td>0</td>\n",
       "      <td>0</td>\n",
       "      <td>0</td>\n",
       "      <td>0</td>\n",
       "    </tr>\n",
       "    <tr>\n",
       "      <th>3</th>\n",
       "      <td>0</td>\n",
       "      <td>1</td>\n",
       "      <td>208</td>\n",
       "      <td>0.060705</td>\n",
       "      <td>1.0</td>\n",
       "      <td>319.0</td>\n",
       "      <td>0.0</td>\n",
       "      <td>0</td>\n",
       "      <td>0</td>\n",
       "      <td>1</td>\n",
       "      <td>0</td>\n",
       "      <td>0</td>\n",
       "      <td>0</td>\n",
       "      <td>0</td>\n",
       "      <td>0</td>\n",
       "    </tr>\n",
       "    <tr>\n",
       "      <th>4</th>\n",
       "      <td>0</td>\n",
       "      <td>1</td>\n",
       "      <td>117</td>\n",
       "      <td>0.062500</td>\n",
       "      <td>1.0</td>\n",
       "      <td>468.0</td>\n",
       "      <td>0.0</td>\n",
       "      <td>0</td>\n",
       "      <td>0</td>\n",
       "      <td>1</td>\n",
       "      <td>0</td>\n",
       "      <td>0</td>\n",
       "      <td>0</td>\n",
       "      <td>0</td>\n",
       "      <td>0</td>\n",
       "    </tr>\n",
       "    <tr>\n",
       "      <th>5</th>\n",
       "      <td>1</td>\n",
       "      <td>0</td>\n",
       "      <td>97</td>\n",
       "      <td>0.127273</td>\n",
       "      <td>1.0</td>\n",
       "      <td>430.0</td>\n",
       "      <td>0.0</td>\n",
       "      <td>0</td>\n",
       "      <td>0</td>\n",
       "      <td>0</td>\n",
       "      <td>0</td>\n",
       "      <td>0</td>\n",
       "      <td>0</td>\n",
       "      <td>1</td>\n",
       "      <td>0</td>\n",
       "    </tr>\n",
       "  </tbody>\n",
       "</table>\n",
       "</div>"
      ],
      "text/plain": [
       "   Reason for Credit Entry  Gender  Reseller State  Product Name  Quantity  \\\n",
       "1                        0       1             208      0.060705       1.0   \n",
       "2                        0       1             111      0.060705       1.0   \n",
       "3                        0       1             208      0.060705       1.0   \n",
       "4                        0       1             117      0.062500       1.0   \n",
       "5                        1       0              97      0.127273       1.0   \n",
       "\n",
       "    cost  discount  32B  34  Free Size  L  M  S  Single  XL  \n",
       "1  343.0       0.0    0   0          1  0  0  0       0   0  \n",
       "2  343.0       0.0    0   0          1  0  0  0       0   0  \n",
       "3  319.0       0.0    0   0          1  0  0  0       0   0  \n",
       "4  468.0       0.0    0   0          1  0  0  0       0   0  \n",
       "5  430.0       0.0    0   0          0  0  0  0       1   0  "
      ]
     },
     "execution_count": 29,
     "metadata": {},
     "output_type": "execute_result"
    }
   ],
   "source": [
    "# For Product name i am choosing mean ordinal encoding\n",
    "mean_ordinal = df_clean.groupby('Product Name')['Reason for Credit Entry'].mean().to_dict()\n",
    "df_clean['Product Name'] = df_clean['Product Name'].map(mean_ordinal)\n",
    "df_clean.head()"
   ]
  },
  {
   "cell_type": "markdown",
   "id": "d08db81b",
   "metadata": {},
   "source": [
    "# Observation\n",
    "Now all categorical data changed into ordinal data"
   ]
  },
  {
   "cell_type": "markdown",
   "id": "36accb39",
   "metadata": {},
   "source": [
    "# Data Selection\n",
    "Selecting data target and independent variable and also spliting data for train and test"
   ]
  },
  {
   "cell_type": "code",
   "execution_count": 30,
   "id": "715c364d",
   "metadata": {},
   "outputs": [],
   "source": [
    "y = df_clean.iloc[:,0] #DEPENDENT variable\n",
    "x = df_clean.iloc[:,1:] #DEPENDENT variable"
   ]
  },
  {
   "cell_type": "code",
   "execution_count": 31,
   "id": "3ce3e956",
   "metadata": {},
   "outputs": [
    {
     "data": {
      "text/html": [
       "<div>\n",
       "<style scoped>\n",
       "    .dataframe tbody tr th:only-of-type {\n",
       "        vertical-align: middle;\n",
       "    }\n",
       "\n",
       "    .dataframe tbody tr th {\n",
       "        vertical-align: top;\n",
       "    }\n",
       "\n",
       "    .dataframe thead th {\n",
       "        text-align: right;\n",
       "    }\n",
       "</style>\n",
       "<table border=\"1\" class=\"dataframe\">\n",
       "  <thead>\n",
       "    <tr style=\"text-align: right;\">\n",
       "      <th></th>\n",
       "      <th>Gender</th>\n",
       "      <th>Reseller State</th>\n",
       "      <th>Product Name</th>\n",
       "      <th>Quantity</th>\n",
       "      <th>cost</th>\n",
       "      <th>discount</th>\n",
       "      <th>32B</th>\n",
       "      <th>34</th>\n",
       "      <th>Free Size</th>\n",
       "      <th>L</th>\n",
       "      <th>M</th>\n",
       "      <th>S</th>\n",
       "      <th>Single</th>\n",
       "      <th>XL</th>\n",
       "    </tr>\n",
       "  </thead>\n",
       "  <tbody>\n",
       "    <tr>\n",
       "      <th>311</th>\n",
       "      <td>1</td>\n",
       "      <td>97</td>\n",
       "      <td>0.127273</td>\n",
       "      <td>1.0</td>\n",
       "      <td>430.0</td>\n",
       "      <td>0.0</td>\n",
       "      <td>0</td>\n",
       "      <td>0</td>\n",
       "      <td>0</td>\n",
       "      <td>0</td>\n",
       "      <td>0</td>\n",
       "      <td>0</td>\n",
       "      <td>1</td>\n",
       "      <td>0</td>\n",
       "    </tr>\n",
       "    <tr>\n",
       "      <th>1451</th>\n",
       "      <td>0</td>\n",
       "      <td>85</td>\n",
       "      <td>0.060705</td>\n",
       "      <td>1.0</td>\n",
       "      <td>125.0</td>\n",
       "      <td>0.0</td>\n",
       "      <td>0</td>\n",
       "      <td>0</td>\n",
       "      <td>1</td>\n",
       "      <td>0</td>\n",
       "      <td>0</td>\n",
       "      <td>0</td>\n",
       "      <td>0</td>\n",
       "      <td>0</td>\n",
       "    </tr>\n",
       "    <tr>\n",
       "      <th>1242</th>\n",
       "      <td>1</td>\n",
       "      <td>208</td>\n",
       "      <td>0.060705</td>\n",
       "      <td>1.0</td>\n",
       "      <td>318.0</td>\n",
       "      <td>0.0</td>\n",
       "      <td>0</td>\n",
       "      <td>0</td>\n",
       "      <td>1</td>\n",
       "      <td>0</td>\n",
       "      <td>0</td>\n",
       "      <td>0</td>\n",
       "      <td>0</td>\n",
       "      <td>0</td>\n",
       "    </tr>\n",
       "    <tr>\n",
       "      <th>256</th>\n",
       "      <td>0</td>\n",
       "      <td>25</td>\n",
       "      <td>0.060705</td>\n",
       "      <td>1.0</td>\n",
       "      <td>257.0</td>\n",
       "      <td>0.0</td>\n",
       "      <td>0</td>\n",
       "      <td>0</td>\n",
       "      <td>1</td>\n",
       "      <td>0</td>\n",
       "      <td>0</td>\n",
       "      <td>0</td>\n",
       "      <td>0</td>\n",
       "      <td>0</td>\n",
       "    </tr>\n",
       "    <tr>\n",
       "      <th>789</th>\n",
       "      <td>0</td>\n",
       "      <td>18</td>\n",
       "      <td>0.062016</td>\n",
       "      <td>1.0</td>\n",
       "      <td>259.0</td>\n",
       "      <td>0.0</td>\n",
       "      <td>0</td>\n",
       "      <td>0</td>\n",
       "      <td>1</td>\n",
       "      <td>0</td>\n",
       "      <td>0</td>\n",
       "      <td>0</td>\n",
       "      <td>0</td>\n",
       "      <td>0</td>\n",
       "    </tr>\n",
       "    <tr>\n",
       "      <th>...</th>\n",
       "      <td>...</td>\n",
       "      <td>...</td>\n",
       "      <td>...</td>\n",
       "      <td>...</td>\n",
       "      <td>...</td>\n",
       "      <td>...</td>\n",
       "      <td>...</td>\n",
       "      <td>...</td>\n",
       "      <td>...</td>\n",
       "      <td>...</td>\n",
       "      <td>...</td>\n",
       "      <td>...</td>\n",
       "      <td>...</td>\n",
       "      <td>...</td>\n",
       "    </tr>\n",
       "    <tr>\n",
       "      <th>1442</th>\n",
       "      <td>1</td>\n",
       "      <td>72</td>\n",
       "      <td>0.045455</td>\n",
       "      <td>1.0</td>\n",
       "      <td>80.0</td>\n",
       "      <td>0.0</td>\n",
       "      <td>0</td>\n",
       "      <td>0</td>\n",
       "      <td>1</td>\n",
       "      <td>0</td>\n",
       "      <td>0</td>\n",
       "      <td>0</td>\n",
       "      <td>0</td>\n",
       "      <td>0</td>\n",
       "    </tr>\n",
       "    <tr>\n",
       "      <th>1393</th>\n",
       "      <td>1</td>\n",
       "      <td>18</td>\n",
       "      <td>0.060705</td>\n",
       "      <td>1.0</td>\n",
       "      <td>301.0</td>\n",
       "      <td>0.0</td>\n",
       "      <td>0</td>\n",
       "      <td>0</td>\n",
       "      <td>1</td>\n",
       "      <td>0</td>\n",
       "      <td>0</td>\n",
       "      <td>0</td>\n",
       "      <td>0</td>\n",
       "      <td>0</td>\n",
       "    </tr>\n",
       "    <tr>\n",
       "      <th>548</th>\n",
       "      <td>0</td>\n",
       "      <td>25</td>\n",
       "      <td>0.062016</td>\n",
       "      <td>1.0</td>\n",
       "      <td>246.0</td>\n",
       "      <td>0.0</td>\n",
       "      <td>0</td>\n",
       "      <td>0</td>\n",
       "      <td>1</td>\n",
       "      <td>0</td>\n",
       "      <td>0</td>\n",
       "      <td>0</td>\n",
       "      <td>0</td>\n",
       "      <td>0</td>\n",
       "    </tr>\n",
       "    <tr>\n",
       "      <th>1185</th>\n",
       "      <td>1</td>\n",
       "      <td>160</td>\n",
       "      <td>0.062016</td>\n",
       "      <td>1.0</td>\n",
       "      <td>285.0</td>\n",
       "      <td>0.0</td>\n",
       "      <td>0</td>\n",
       "      <td>0</td>\n",
       "      <td>1</td>\n",
       "      <td>0</td>\n",
       "      <td>0</td>\n",
       "      <td>0</td>\n",
       "      <td>0</td>\n",
       "      <td>0</td>\n",
       "    </tr>\n",
       "    <tr>\n",
       "      <th>1334</th>\n",
       "      <td>1</td>\n",
       "      <td>82</td>\n",
       "      <td>0.100000</td>\n",
       "      <td>1.0</td>\n",
       "      <td>199.0</td>\n",
       "      <td>0.0</td>\n",
       "      <td>0</td>\n",
       "      <td>0</td>\n",
       "      <td>1</td>\n",
       "      <td>0</td>\n",
       "      <td>0</td>\n",
       "      <td>0</td>\n",
       "      <td>0</td>\n",
       "      <td>0</td>\n",
       "    </tr>\n",
       "  </tbody>\n",
       "</table>\n",
       "<p>1273 rows × 14 columns</p>\n",
       "</div>"
      ],
      "text/plain": [
       "      Gender  Reseller State  Product Name  Quantity   cost  discount  32B  \\\n",
       "311        1              97      0.127273       1.0  430.0       0.0    0   \n",
       "1451       0              85      0.060705       1.0  125.0       0.0    0   \n",
       "1242       1             208      0.060705       1.0  318.0       0.0    0   \n",
       "256        0              25      0.060705       1.0  257.0       0.0    0   \n",
       "789        0              18      0.062016       1.0  259.0       0.0    0   \n",
       "...      ...             ...           ...       ...    ...       ...  ...   \n",
       "1442       1              72      0.045455       1.0   80.0       0.0    0   \n",
       "1393       1              18      0.060705       1.0  301.0       0.0    0   \n",
       "548        0              25      0.062016       1.0  246.0       0.0    0   \n",
       "1185       1             160      0.062016       1.0  285.0       0.0    0   \n",
       "1334       1              82      0.100000       1.0  199.0       0.0    0   \n",
       "\n",
       "      34  Free Size  L  M  S  Single  XL  \n",
       "311    0          0  0  0  0       1   0  \n",
       "1451   0          1  0  0  0       0   0  \n",
       "1242   0          1  0  0  0       0   0  \n",
       "256    0          1  0  0  0       0   0  \n",
       "789    0          1  0  0  0       0   0  \n",
       "...   ..        ... .. .. ..     ...  ..  \n",
       "1442   0          1  0  0  0       0   0  \n",
       "1393   0          1  0  0  0       0   0  \n",
       "548    0          1  0  0  0       0   0  \n",
       "1185   0          1  0  0  0       0   0  \n",
       "1334   0          1  0  0  0       0   0  \n",
       "\n",
       "[1273 rows x 14 columns]"
      ]
     },
     "execution_count": 31,
     "metadata": {},
     "output_type": "execute_result"
    }
   ],
   "source": [
    "x_train,x_test,y_train,y_test = train_test_split(x,y,test_size = 0.2,shuffle=True,random_state=10)\n",
    "x_train"
   ]
  },
  {
   "cell_type": "code",
   "execution_count": 32,
   "id": "a39e07fd",
   "metadata": {
    "scrolled": true
   },
   "outputs": [
    {
     "data": {
      "image/png": "[encoded data removed]",
      "text/plain": [
       "<Figure size 1080x576 with 2 Axes>"
      ]
     },
     "metadata": {
      "needs_background": "light"
     },
     "output_type": "display_data"
    }
   ],
   "source": [
    "# Correlation of each features\n",
    "f,ax = plt.subplots(figsize=(15, 8))\n",
    "sns.heatmap(x_train.corr(),annot=True, ax=ax)\n",
    "plt.show()"
   ]
  },
  {
   "cell_type": "markdown",
   "id": "d942ad30",
   "metadata": {},
   "source": [
    "# Observation\n",
    "features are not highly correlated so no need to drop any feature."
   ]
  },
  {
   "cell_type": "markdown",
   "id": "6c559acc",
   "metadata": {},
   "source": [
    "# Model prepration\n",
    "Data set is imbalanced so i am choosing random forest classsifier"
   ]
  },
  {
   "cell_type": "code",
   "execution_count": 33,
   "id": "4d36f204",
   "metadata": {},
   "outputs": [],
   "source": [
    "classifier = RandomForestClassifier()"
   ]
  },
  {
   "cell_type": "code",
   "execution_count": 34,
   "id": "7adc80ef",
   "metadata": {},
   "outputs": [],
   "source": [
    "parameter = {'n_estimators':[10,20,30,40,50,80,90,100,120,140,150,160],'criterion':['gini','entropy']}"
   ]
  },
  {
   "cell_type": "code",
   "execution_count": 35,
   "id": "4b217656",
   "metadata": {},
   "outputs": [],
   "source": [
    "cv = KFold(n_splits = 15,shuffle=True,random_state=10)"
   ]
  },
  {
   "cell_type": "code",
   "execution_count": 36,
   "id": "3f0f124f",
   "metadata": {},
   "outputs": [],
   "source": [
    "grid_search = GridSearchCV(classifier,parameter,cv=cv,scoring='accuracy')"
   ]
  },
  {
   "cell_type": "code",
   "execution_count": 37,
   "id": "693ce38e",
   "metadata": {},
   "outputs": [],
   "source": [
    "clf = grid_search.fit(x_train,y_train)"
   ]
  },
  {
   "cell_type": "code",
   "execution_count": 38,
   "id": "b2d291f6",
   "metadata": {},
   "outputs": [
    {
     "data": {
      "text/plain": [
       "0.9261811391223156"
      ]
     },
     "execution_count": 38,
     "metadata": {},
     "output_type": "execute_result"
    }
   ],
   "source": [
    "clf.best_score_"
   ]
  },
  {
   "cell_type": "code",
   "execution_count": 39,
   "id": "b75ff738",
   "metadata": {},
   "outputs": [
    {
     "data": {
      "text/plain": [
       "{'criterion': 'gini', 'n_estimators': 160}"
      ]
     },
     "execution_count": 39,
     "metadata": {},
     "output_type": "execute_result"
    }
   ],
   "source": [
    "clf.best_params_"
   ]
  },
  {
   "cell_type": "code",
   "execution_count": 40,
   "id": "2c74f20a",
   "metadata": {},
   "outputs": [],
   "source": [
    "# score = cross_val_score(clf,x_train,y_train,cv=cv)\n",
    "# print(score)\n",
    "# print(score.mean)"
   ]
  },
  {
   "cell_type": "code",
   "execution_count": 41,
   "id": "7c51c1f1",
   "metadata": {},
   "outputs": [
    {
     "name": "stdout",
     "output_type": "stream",
     "text": [
      "(array([0, 1]), array([297,  22], dtype=int64))\n",
      "(array([0, 1]), array([315,   4], dtype=int64))\n"
     ]
    }
   ],
   "source": [
    "y_pred = clf.predict(x_test)\n",
    "print(np.unique(y_test,return_counts = True))\n",
    "print(np.unique(y_pred,return_counts = True))"
   ]
  },
  {
   "cell_type": "code",
   "execution_count": 42,
   "id": "ab3dc722",
   "metadata": {},
   "outputs": [
    {
     "data": {
      "text/plain": [
       "0.9247648902821317"
      ]
     },
     "execution_count": 42,
     "metadata": {},
     "output_type": "execute_result"
    }
   ],
   "source": [
    "from sklearn.metrics import accuracy_score\n",
    "accuracy_score(y_test,y_pred)"
   ]
  },
  {
   "cell_type": "code",
   "execution_count": 43,
   "id": "30326a0a",
   "metadata": {},
   "outputs": [
    {
     "data": {
      "text/plain": [
       "array([[294,   3],\n",
       "       [ 21,   1]], dtype=int64)"
      ]
     },
     "execution_count": 43,
     "metadata": {},
     "output_type": "execute_result"
    }
   ],
   "source": [
    "from sklearn.metrics import confusion_matrix\n",
    "confusion_matrix(y_test,y_pred)"
   ]
  },
  {
   "cell_type": "code",
   "execution_count": 44,
   "id": "341de09f",
   "metadata": {},
   "outputs": [
    {
     "name": "stdout",
     "output_type": "stream",
     "text": [
      "              precision    recall  f1-score   support\n",
      "\n",
      "           0       0.93      0.99      0.96       297\n",
      "           1       0.25      0.05      0.08        22\n",
      "\n",
      "    accuracy                           0.92       319\n",
      "   macro avg       0.59      0.52      0.52       319\n",
      "weighted avg       0.89      0.92      0.90       319\n",
      "\n"
     ]
    }
   ],
   "source": [
    "cf = classification_report(y_test,y_pred)\n",
    "print(cf)"
   ]
  },
  {
   "cell_type": "markdown",
   "id": "3602ec66",
   "metadata": {},
   "source": [
    "# Observation:\n",
    "By doing all hyperparameter tuning the training accuracy is fixed between 91%-92%. As we see testing accuracy is somewhere \n",
    "around 91%-92% but precision rate is high. Model is predicting more false positive. Which means model is predicting that items will\n",
    "delivered and actually it is not deliver. So we need to work more so that precision accuracy improve.\n",
    "Now i will try undersampling technique because our data set is imbalance. After that if accuracy will not improved then try\n",
    "some other machine learning technique."
   ]
  },
  {
   "cell_type": "code",
   "execution_count": 45,
   "id": "f316ba14",
   "metadata": {},
   "outputs": [
    {
     "name": "stdout",
     "output_type": "stream",
     "text": [
      "Requirement already satisfied: imbalanced-learn in e:\\anaconda\\lib\\site-packages (0.9.0)"
     ]
    },
    {
     "name": "stderr",
     "output_type": "stream",
     "text": [
      "WARNING: Error parsing requirements for google-pasta: [Errno 2] No such file or directory: 'e:\\\\anaconda\\\\lib\\\\site-packages\\\\google_pasta-0.2.0.dist-info\\\\METADATA'\n",
      "WARNING: Error parsing requirements for absl-py: [Errno 2] No such file or directory: 'e:\\\\anaconda\\\\lib\\\\site-packages\\\\absl_py-0.13.0.dist-info\\\\METADATA'\n"
     ]
    },
    {
     "name": "stdout",
     "output_type": "stream",
     "text": [
      "\n",
      "Requirement already satisfied: scipy>=1.1.0 in e:\\anaconda\\lib\\site-packages (from imbalanced-learn) (1.6.2)\n",
      "Requirement already satisfied: numpy>=1.14.6 in e:\\anaconda\\lib\\site-packages (from imbalanced-learn) (1.19.5)\n",
      "Requirement already satisfied: threadpoolctl>=2.0.0 in e:\\anaconda\\lib\\site-packages (from imbalanced-learn) (2.1.0)\n",
      "Requirement already satisfied: joblib>=0.11 in e:\\anaconda\\lib\\site-packages (from imbalanced-learn) (1.0.1)\n",
      "Requirement already satisfied: scikit-learn>=1.0.1 in e:\\anaconda\\lib\\site-packages (from imbalanced-learn) (1.0.2)\n"
     ]
    }
   ],
   "source": [
    "#Installing package imbalanced-learn that help in balancing our dataset.\n",
    "!pip install imbalanced-learn"
   ]
  },
  {
   "cell_type": "code",
   "execution_count": 46,
   "id": "cc9a319a",
   "metadata": {},
   "outputs": [
    {
     "name": "stdout",
     "output_type": "stream",
     "text": [
      "(array([0, 1]), array([102,  82], dtype=int64))\n"
     ]
    },
    {
     "name": "stderr",
     "output_type": "stream",
     "text": [
      "E:\\Anaconda\\lib\\site-packages\\imblearn\\utils\\_validation.py:586: FutureWarning:\n",
      "\n",
      "Pass sampling_strategy=0.8 as keyword args. From version 0.9 passing these as positional arguments will result in an error\n",
      "\n"
     ]
    }
   ],
   "source": [
    "#Trying to fix the balancing issue by balance the dataset. Small category data will become 80% of large category dataset.\n",
    "from imblearn.under_sampling import NearMiss\n",
    "ns=NearMiss(0.8)\n",
    "x_train_underbal,y_train_underbal= ns.fit_resample(x_train,y_train)\n",
    "print(np.unique(y_train_underbal,return_counts = True))"
   ]
  },
  {
   "cell_type": "code",
   "execution_count": 47,
   "id": "f56c7013",
   "metadata": {},
   "outputs": [],
   "source": [
    "# Now, we will continue all process that we done earlier to check accuracy. Parameters are same only dataset with balance are used.\n",
    "clf_underbal = grid_search.fit(x_train_underbal,y_train_underbal)"
   ]
  },
  {
   "cell_type": "code",
   "execution_count": 48,
   "id": "93223f83",
   "metadata": {},
   "outputs": [
    {
     "name": "stdout",
     "output_type": "stream",
     "text": [
      "0.8294871794871795\n",
      "{'criterion': 'gini', 'n_estimators': 50}\n"
     ]
    }
   ],
   "source": [
    "print(clf_underbal.best_score_)\n",
    "print(clf_underbal.best_params_)"
   ]
  },
  {
   "cell_type": "code",
   "execution_count": 49,
   "id": "6ed62729",
   "metadata": {},
   "outputs": [
    {
     "data": {
      "text/plain": [
       "0.2852664576802508"
      ]
     },
     "execution_count": 49,
     "metadata": {},
     "output_type": "execute_result"
    }
   ],
   "source": [
    "y_pred_underbal = clf_underbal.predict(x_test)\n",
    "accuracy_score(y_test,y_pred_underbal)"
   ]
  },
  {
   "cell_type": "markdown",
   "id": "a13f9e0f",
   "metadata": {},
   "source": [
    "# Observation:\n",
    "With undersampling data is showing bias-variance tradeoff. Both training accuracy and testing accuracy is low. If we\n",
    "compare it with Random forest classifier under sampling model really performed bad.\n",
    "Now we will try over sampling and check the accuracy."
   ]
  },
  {
   "cell_type": "code",
   "execution_count": 50,
   "id": "9076fddc",
   "metadata": {},
   "outputs": [
    {
     "name": "stdout",
     "output_type": "stream",
     "text": [
      "(array([0, 1]), array([1191,  595], dtype=int64))\n"
     ]
    },
    {
     "name": "stderr",
     "output_type": "stream",
     "text": [
      "E:\\Anaconda\\lib\\site-packages\\imblearn\\utils\\_validation.py:586: FutureWarning:\n",
      "\n",
      "Pass sampling_strategy=0.5 as keyword args. From version 0.9 passing these as positional arguments will result in an error\n",
      "\n"
     ]
    }
   ],
   "source": [
    "# Using over sampling to increase the minority class data by adding some synthetic data points.\n",
    "from imblearn.over_sampling import RandomOverSampler\n",
    "os = RandomOverSampler(0.5)\n",
    "x_train_overbal,y_train_overbal = os.fit_resample(x_train,y_train)\n",
    "print(np.unique(y_train_overbal,return_counts = True))"
   ]
  },
  {
   "cell_type": "code",
   "execution_count": 51,
   "id": "dd4e69a6",
   "metadata": {},
   "outputs": [],
   "source": [
    "# Now, we will continue all process that we done earlier to check accuracy. Parameters are same only dataset with balance are used.\n",
    "clf_overbal = grid_search.fit(x_train_overbal,y_train_overbal)"
   ]
  },
  {
   "cell_type": "code",
   "execution_count": 52,
   "id": "7ab22f89",
   "metadata": {},
   "outputs": [
    {
     "name": "stdout",
     "output_type": "stream",
     "text": [
      "0.9188235294117649\n",
      "{'criterion': 'gini', 'n_estimators': 120}\n"
     ]
    }
   ],
   "source": [
    "print(clf_overbal.best_score_)\n",
    "print(clf_overbal.best_params_)"
   ]
  },
  {
   "cell_type": "code",
   "execution_count": 53,
   "id": "dedadb76",
   "metadata": {},
   "outputs": [
    {
     "data": {
      "text/plain": [
       "0.8495297805642633"
      ]
     },
     "execution_count": 53,
     "metadata": {},
     "output_type": "execute_result"
    }
   ],
   "source": [
    "y_pred_overbal = clf_overbal.predict(x_test)\n",
    "accuracy_score(y_test,y_pred_overbal)"
   ]
  },
  {
   "cell_type": "markdown",
   "id": "04bdc6eb",
   "metadata": {},
   "source": [
    "# Observstion:\n",
    "Well it worked better with (0.5), if value range increase or decrease model highly overfitted.\n",
    "Both testing and training accuracy is better than undersampling but not much better than Random forest classifier without\n",
    "sampling. \n",
    "Now we can apply over sample and under sample dataset with other classifier to check best classifier for the model."
   ]
  },
  {
   "cell_type": "markdown",
   "id": "b373ac62",
   "metadata": {},
   "source": [
    "# other model\n",
    "As we seen above after doing all hypertunning and balancing data set but precision not improved.\n",
    "Now we will try some other method to get better result."
   ]
  },
  {
   "cell_type": "code",
   "execution_count": 54,
   "id": "bb943ace",
   "metadata": {},
   "outputs": [
    {
     "data": {
      "text/html": [
       "<div>\n",
       "<style scoped>\n",
       "    .dataframe tbody tr th:only-of-type {\n",
       "        vertical-align: middle;\n",
       "    }\n",
       "\n",
       "    .dataframe tbody tr th {\n",
       "        vertical-align: top;\n",
       "    }\n",
       "\n",
       "    .dataframe thead th {\n",
       "        text-align: right;\n",
       "    }\n",
       "</style>\n",
       "<table border=\"1\" class=\"dataframe\">\n",
       "  <thead>\n",
       "    <tr style=\"text-align: right;\">\n",
       "      <th></th>\n",
       "      <th>Gender</th>\n",
       "      <th>Reseller State</th>\n",
       "      <th>Product Name</th>\n",
       "      <th>Quantity</th>\n",
       "      <th>cost</th>\n",
       "      <th>discount</th>\n",
       "      <th>32B</th>\n",
       "      <th>34</th>\n",
       "      <th>Free Size</th>\n",
       "      <th>L</th>\n",
       "      <th>M</th>\n",
       "      <th>S</th>\n",
       "      <th>Single</th>\n",
       "      <th>XL</th>\n",
       "    </tr>\n",
       "  </thead>\n",
       "  <tbody>\n",
       "    <tr>\n",
       "      <th>311</th>\n",
       "      <td>1</td>\n",
       "      <td>97</td>\n",
       "      <td>0.127273</td>\n",
       "      <td>1.0</td>\n",
       "      <td>430.0</td>\n",
       "      <td>0.0</td>\n",
       "      <td>0</td>\n",
       "      <td>0</td>\n",
       "      <td>0</td>\n",
       "      <td>0</td>\n",
       "      <td>0</td>\n",
       "      <td>0</td>\n",
       "      <td>1</td>\n",
       "      <td>0</td>\n",
       "    </tr>\n",
       "    <tr>\n",
       "      <th>1451</th>\n",
       "      <td>0</td>\n",
       "      <td>85</td>\n",
       "      <td>0.060705</td>\n",
       "      <td>1.0</td>\n",
       "      <td>125.0</td>\n",
       "      <td>0.0</td>\n",
       "      <td>0</td>\n",
       "      <td>0</td>\n",
       "      <td>1</td>\n",
       "      <td>0</td>\n",
       "      <td>0</td>\n",
       "      <td>0</td>\n",
       "      <td>0</td>\n",
       "      <td>0</td>\n",
       "    </tr>\n",
       "    <tr>\n",
       "      <th>1242</th>\n",
       "      <td>1</td>\n",
       "      <td>208</td>\n",
       "      <td>0.060705</td>\n",
       "      <td>1.0</td>\n",
       "      <td>318.0</td>\n",
       "      <td>0.0</td>\n",
       "      <td>0</td>\n",
       "      <td>0</td>\n",
       "      <td>1</td>\n",
       "      <td>0</td>\n",
       "      <td>0</td>\n",
       "      <td>0</td>\n",
       "      <td>0</td>\n",
       "      <td>0</td>\n",
       "    </tr>\n",
       "    <tr>\n",
       "      <th>256</th>\n",
       "      <td>0</td>\n",
       "      <td>25</td>\n",
       "      <td>0.060705</td>\n",
       "      <td>1.0</td>\n",
       "      <td>257.0</td>\n",
       "      <td>0.0</td>\n",
       "      <td>0</td>\n",
       "      <td>0</td>\n",
       "      <td>1</td>\n",
       "      <td>0</td>\n",
       "      <td>0</td>\n",
       "      <td>0</td>\n",
       "      <td>0</td>\n",
       "      <td>0</td>\n",
       "    </tr>\n",
       "    <tr>\n",
       "      <th>789</th>\n",
       "      <td>0</td>\n",
       "      <td>18</td>\n",
       "      <td>0.062016</td>\n",
       "      <td>1.0</td>\n",
       "      <td>259.0</td>\n",
       "      <td>0.0</td>\n",
       "      <td>0</td>\n",
       "      <td>0</td>\n",
       "      <td>1</td>\n",
       "      <td>0</td>\n",
       "      <td>0</td>\n",
       "      <td>0</td>\n",
       "      <td>0</td>\n",
       "      <td>0</td>\n",
       "    </tr>\n",
       "  </tbody>\n",
       "</table>\n",
       "</div>"
      ],
      "text/plain": [
       "      Gender  Reseller State  Product Name  Quantity   cost  discount  32B  \\\n",
       "311        1              97      0.127273       1.0  430.0       0.0    0   \n",
       "1451       0              85      0.060705       1.0  125.0       0.0    0   \n",
       "1242       1             208      0.060705       1.0  318.0       0.0    0   \n",
       "256        0              25      0.060705       1.0  257.0       0.0    0   \n",
       "789        0              18      0.062016       1.0  259.0       0.0    0   \n",
       "\n",
       "      34  Free Size  L  M  S  Single  XL  \n",
       "311    0          0  0  0  0       1   0  \n",
       "1451   0          1  0  0  0       0   0  \n",
       "1242   0          1  0  0  0       0   0  \n",
       "256    0          1  0  0  0       0   0  \n",
       "789    0          1  0  0  0       0   0  "
      ]
     },
     "execution_count": 54,
     "metadata": {},
     "output_type": "execute_result"
    }
   ],
   "source": [
    "x_train.head()"
   ]
  },
  {
   "cell_type": "code",
   "execution_count": 55,
   "id": "6f024999",
   "metadata": {},
   "outputs": [],
   "source": [
    "# Standarising reseller state and cost for better accuracy\n",
    "sc = StandardScaler()\n",
    "x_train_std = x_train.copy()\n",
    "columns = ['Reseller State','cost']\n",
    "std_col = x_train_std[columns]\n",
    "standard = sc.fit_transform(std_col.values)\n",
    "x_train_std[columns] = standard\n",
    "\n",
    "x_test_std = x_test.copy()\n",
    "columns = ['Reseller State','cost']\n",
    "std_test_col = x_test_std[columns]\n",
    "standard = sc.transform(std_test_col.values)\n",
    "x_test_std[columns] = standard"
   ]
  },
  {
   "cell_type": "markdown",
   "id": "3768b44f",
   "metadata": {},
   "source": [
    "# Model Prepration:\n",
    "We try logistics regression, It is more suitable when target is binary."
   ]
  },
  {
   "cell_type": "code",
   "execution_count": 56,
   "id": "f7d34c12",
   "metadata": {},
   "outputs": [],
   "source": [
    "classifier2 = LogisticRegression()"
   ]
  },
  {
   "cell_type": "code",
   "execution_count": 57,
   "id": "fc749a47",
   "metadata": {},
   "outputs": [
    {
     "name": "stderr",
     "output_type": "stream",
     "text": [
      "E:\\Anaconda\\lib\\site-packages\\sklearn\\linear_model\\_logistic.py:814: ConvergenceWarning:\n",
      "\n",
      "lbfgs failed to converge (status=1):\n",
      "STOP: TOTAL NO. of ITERATIONS REACHED LIMIT.\n",
      "\n",
      "Increase the number of iterations (max_iter) or scale the data as shown in:\n",
      "    https://scikit-learn.org/stable/modules/preprocessing.html\n",
      "Please also refer to the documentation for alternative solver options:\n",
      "    https://scikit-learn.org/stable/modules/linear_model.html#logistic-regression\n",
      "\n",
      "E:\\Anaconda\\lib\\site-packages\\sklearn\\linear_model\\_logistic.py:814: ConvergenceWarning:\n",
      "\n",
      "lbfgs failed to converge (status=1):\n",
      "STOP: TOTAL NO. of ITERATIONS REACHED LIMIT.\n",
      "\n",
      "Increase the number of iterations (max_iter) or scale the data as shown in:\n",
      "    https://scikit-learn.org/stable/modules/preprocessing.html\n",
      "Please also refer to the documentation for alternative solver options:\n",
      "    https://scikit-learn.org/stable/modules/linear_model.html#logistic-regression\n",
      "\n",
      "E:\\Anaconda\\lib\\site-packages\\sklearn\\linear_model\\_logistic.py:814: ConvergenceWarning:\n",
      "\n",
      "lbfgs failed to converge (status=1):\n",
      "STOP: TOTAL NO. of ITERATIONS REACHED LIMIT.\n",
      "\n",
      "Increase the number of iterations (max_iter) or scale the data as shown in:\n",
      "    https://scikit-learn.org/stable/modules/preprocessing.html\n",
      "Please also refer to the documentation for alternative solver options:\n",
      "    https://scikit-learn.org/stable/modules/linear_model.html#logistic-regression\n",
      "\n",
      "E:\\Anaconda\\lib\\site-packages\\sklearn\\linear_model\\_logistic.py:814: ConvergenceWarning:\n",
      "\n",
      "lbfgs failed to converge (status=1):\n",
      "STOP: TOTAL NO. of ITERATIONS REACHED LIMIT.\n",
      "\n",
      "Increase the number of iterations (max_iter) or scale the data as shown in:\n",
      "    https://scikit-learn.org/stable/modules/preprocessing.html\n",
      "Please also refer to the documentation for alternative solver options:\n",
      "    https://scikit-learn.org/stable/modules/linear_model.html#logistic-regression\n",
      "\n",
      "E:\\Anaconda\\lib\\site-packages\\sklearn\\linear_model\\_logistic.py:814: ConvergenceWarning:\n",
      "\n",
      "lbfgs failed to converge (status=1):\n",
      "STOP: TOTAL NO. of ITERATIONS REACHED LIMIT.\n",
      "\n",
      "Increase the number of iterations (max_iter) or scale the data as shown in:\n",
      "    https://scikit-learn.org/stable/modules/preprocessing.html\n",
      "Please also refer to the documentation for alternative solver options:\n",
      "    https://scikit-learn.org/stable/modules/linear_model.html#logistic-regression\n",
      "\n",
      "E:\\Anaconda\\lib\\site-packages\\sklearn\\linear_model\\_logistic.py:814: ConvergenceWarning:\n",
      "\n",
      "lbfgs failed to converge (status=1):\n",
      "STOP: TOTAL NO. of ITERATIONS REACHED LIMIT.\n",
      "\n",
      "Increase the number of iterations (max_iter) or scale the data as shown in:\n",
      "    https://scikit-learn.org/stable/modules/preprocessing.html\n",
      "Please also refer to the documentation for alternative solver options:\n",
      "    https://scikit-learn.org/stable/modules/linear_model.html#logistic-regression\n",
      "\n",
      "E:\\Anaconda\\lib\\site-packages\\sklearn\\linear_model\\_logistic.py:814: ConvergenceWarning:\n",
      "\n",
      "lbfgs failed to converge (status=1):\n",
      "STOP: TOTAL NO. of ITERATIONS REACHED LIMIT.\n",
      "\n",
      "Increase the number of iterations (max_iter) or scale the data as shown in:\n",
      "    https://scikit-learn.org/stable/modules/preprocessing.html\n",
      "Please also refer to the documentation for alternative solver options:\n",
      "    https://scikit-learn.org/stable/modules/linear_model.html#logistic-regression\n",
      "\n",
      "E:\\Anaconda\\lib\\site-packages\\sklearn\\linear_model\\_logistic.py:814: ConvergenceWarning:\n",
      "\n",
      "lbfgs failed to converge (status=1):\n",
      "STOP: TOTAL NO. of ITERATIONS REACHED LIMIT.\n",
      "\n",
      "Increase the number of iterations (max_iter) or scale the data as shown in:\n",
      "    https://scikit-learn.org/stable/modules/preprocessing.html\n",
      "Please also refer to the documentation for alternative solver options:\n",
      "    https://scikit-learn.org/stable/modules/linear_model.html#logistic-regression\n",
      "\n",
      "E:\\Anaconda\\lib\\site-packages\\sklearn\\linear_model\\_logistic.py:814: ConvergenceWarning:\n",
      "\n",
      "lbfgs failed to converge (status=1):\n",
      "STOP: TOTAL NO. of ITERATIONS REACHED LIMIT.\n",
      "\n",
      "Increase the number of iterations (max_iter) or scale the data as shown in:\n",
      "    https://scikit-learn.org/stable/modules/preprocessing.html\n",
      "Please also refer to the documentation for alternative solver options:\n",
      "    https://scikit-learn.org/stable/modules/linear_model.html#logistic-regression\n",
      "\n",
      "E:\\Anaconda\\lib\\site-packages\\sklearn\\linear_model\\_logistic.py:814: ConvergenceWarning:\n",
      "\n",
      "lbfgs failed to converge (status=1):\n",
      "STOP: TOTAL NO. of ITERATIONS REACHED LIMIT.\n",
      "\n",
      "Increase the number of iterations (max_iter) or scale the data as shown in:\n",
      "    https://scikit-learn.org/stable/modules/preprocessing.html\n",
      "Please also refer to the documentation for alternative solver options:\n",
      "    https://scikit-learn.org/stable/modules/linear_model.html#logistic-regression\n",
      "\n",
      "E:\\Anaconda\\lib\\site-packages\\sklearn\\linear_model\\_logistic.py:814: ConvergenceWarning:\n",
      "\n",
      "lbfgs failed to converge (status=1):\n",
      "STOP: TOTAL NO. of ITERATIONS REACHED LIMIT.\n",
      "\n",
      "Increase the number of iterations (max_iter) or scale the data as shown in:\n",
      "    https://scikit-learn.org/stable/modules/preprocessing.html\n",
      "Please also refer to the documentation for alternative solver options:\n",
      "    https://scikit-learn.org/stable/modules/linear_model.html#logistic-regression\n",
      "\n",
      "E:\\Anaconda\\lib\\site-packages\\sklearn\\linear_model\\_logistic.py:814: ConvergenceWarning:\n",
      "\n",
      "lbfgs failed to converge (status=1):\n",
      "STOP: TOTAL NO. of ITERATIONS REACHED LIMIT.\n",
      "\n",
      "Increase the number of iterations (max_iter) or scale the data as shown in:\n",
      "    https://scikit-learn.org/stable/modules/preprocessing.html\n",
      "Please also refer to the documentation for alternative solver options:\n",
      "    https://scikit-learn.org/stable/modules/linear_model.html#logistic-regression\n",
      "\n",
      "E:\\Anaconda\\lib\\site-packages\\sklearn\\linear_model\\_logistic.py:814: ConvergenceWarning:\n",
      "\n",
      "lbfgs failed to converge (status=1):\n",
      "STOP: TOTAL NO. of ITERATIONS REACHED LIMIT.\n",
      "\n",
      "Increase the number of iterations (max_iter) or scale the data as shown in:\n",
      "    https://scikit-learn.org/stable/modules/preprocessing.html\n",
      "Please also refer to the documentation for alternative solver options:\n",
      "    https://scikit-learn.org/stable/modules/linear_model.html#logistic-regression\n",
      "\n",
      "E:\\Anaconda\\lib\\site-packages\\sklearn\\linear_model\\_logistic.py:814: ConvergenceWarning:\n",
      "\n",
      "lbfgs failed to converge (status=1):\n",
      "STOP: TOTAL NO. of ITERATIONS REACHED LIMIT.\n",
      "\n",
      "Increase the number of iterations (max_iter) or scale the data as shown in:\n",
      "    https://scikit-learn.org/stable/modules/preprocessing.html\n",
      "Please also refer to the documentation for alternative solver options:\n",
      "    https://scikit-learn.org/stable/modules/linear_model.html#logistic-regression\n",
      "\n",
      "E:\\Anaconda\\lib\\site-packages\\sklearn\\linear_model\\_logistic.py:814: ConvergenceWarning:\n",
      "\n",
      "lbfgs failed to converge (status=1):\n",
      "STOP: TOTAL NO. of ITERATIONS REACHED LIMIT.\n",
      "\n",
      "Increase the number of iterations (max_iter) or scale the data as shown in:\n",
      "    https://scikit-learn.org/stable/modules/preprocessing.html\n",
      "Please also refer to the documentation for alternative solver options:\n",
      "    https://scikit-learn.org/stable/modules/linear_model.html#logistic-regression\n",
      "\n",
      "E:\\Anaconda\\lib\\site-packages\\sklearn\\model_selection\\_validation.py:372: FitFailedWarning:\n",
      "\n",
      "\n",
      "15 fits failed out of a total of 30.\n",
      "The score on these train-test partitions for these parameters will be set to nan.\n",
      "If these failures are not expected, you can try to debug them by setting error_score='raise'.\n",
      "\n",
      "Below are more details about the failures:\n",
      "--------------------------------------------------------------------------------\n",
      "15 fits failed with the following error:\n",
      "Traceback (most recent call last):\n",
      "  File \"E:\\Anaconda\\lib\\site-packages\\sklearn\\model_selection\\_validation.py\", line 680, in _fit_and_score\n",
      "    estimator.fit(X_train, y_train, **fit_params)\n",
      "  File \"E:\\Anaconda\\lib\\site-packages\\sklearn\\linear_model\\_logistic.py\", line 1461, in fit\n",
      "    solver = _check_solver(self.solver, self.penalty, self.dual)\n",
      "  File \"E:\\Anaconda\\lib\\site-packages\\sklearn\\linear_model\\_logistic.py\", line 447, in _check_solver\n",
      "    raise ValueError(\n",
      "ValueError: Solver lbfgs supports only 'l2' or 'none' penalties, got l1 penalty.\n",
      "\n",
      "\n",
      "E:\\Anaconda\\lib\\site-packages\\sklearn\\model_selection\\_search.py:969: UserWarning:\n",
      "\n",
      "One or more of the test scores are non-finite: [       nan 0.93795518]\n",
      "\n",
      "E:\\Anaconda\\lib\\site-packages\\sklearn\\linear_model\\_logistic.py:814: ConvergenceWarning:\n",
      "\n",
      "lbfgs failed to converge (status=1):\n",
      "STOP: TOTAL NO. of ITERATIONS REACHED LIMIT.\n",
      "\n",
      "Increase the number of iterations (max_iter) or scale the data as shown in:\n",
      "    https://scikit-learn.org/stable/modules/preprocessing.html\n",
      "Please also refer to the documentation for alternative solver options:\n",
      "    https://scikit-learn.org/stable/modules/linear_model.html#logistic-regression\n",
      "\n"
     ]
    }
   ],
   "source": [
    "parameter = {'penalty':['l1','l2']}\n",
    "grid_search = GridSearchCV(classifier2,parameter,cv=cv,scoring='accuracy')\n",
    "clf2 = grid_search.fit(x_train,y_train)"
   ]
  },
  {
   "cell_type": "code",
   "execution_count": 58,
   "id": "8251b8b6",
   "metadata": {},
   "outputs": [
    {
     "data": {
      "text/plain": [
       "0.9379551820728291"
      ]
     },
     "execution_count": 58,
     "metadata": {},
     "output_type": "execute_result"
    }
   ],
   "source": [
    "clf2.best_score_"
   ]
  },
  {
   "cell_type": "code",
   "execution_count": 59,
   "id": "88c75df8",
   "metadata": {},
   "outputs": [
    {
     "data": {
      "text/plain": [
       "{'penalty': 'l2'}"
      ]
     },
     "execution_count": 59,
     "metadata": {},
     "output_type": "execute_result"
    }
   ],
   "source": [
    "clf2.best_params_"
   ]
  },
  {
   "cell_type": "code",
   "execution_count": 60,
   "id": "5e2e1ed2",
   "metadata": {},
   "outputs": [
    {
     "name": "stdout",
     "output_type": "stream",
     "text": [
      "(array([0, 1]), array([297,  22], dtype=int64))\n",
      "(array([0]), array([319], dtype=int64))\n"
     ]
    }
   ],
   "source": [
    "y_pred_clf2 = clf2.predict(x_test)\n",
    "print(np.unique(y_test,return_counts = True))\n",
    "print(np.unique(y_pred_clf2,return_counts = True))"
   ]
  },
  {
   "cell_type": "code",
   "execution_count": 61,
   "id": "eec47e57",
   "metadata": {},
   "outputs": [
    {
     "data": {
      "text/plain": [
       "0.9310344827586207"
      ]
     },
     "execution_count": 61,
     "metadata": {},
     "output_type": "execute_result"
    }
   ],
   "source": [
    "accuracy_score(y_test,y_pred_clf2)"
   ]
  },
  {
   "cell_type": "code",
   "execution_count": 62,
   "id": "83229aff",
   "metadata": {},
   "outputs": [
    {
     "data": {
      "text/plain": [
       "array([[297,   0],\n",
       "       [ 22,   0]], dtype=int64)"
      ]
     },
     "execution_count": 62,
     "metadata": {},
     "output_type": "execute_result"
    }
   ],
   "source": [
    "confusion_matrix(y_test,y_pred_clf2)"
   ]
  },
  {
   "cell_type": "markdown",
   "id": "14f19aeb",
   "metadata": {},
   "source": [
    "# Same with standarised data set"
   ]
  },
  {
   "cell_type": "code",
   "execution_count": 63,
   "id": "1efee0bc",
   "metadata": {},
   "outputs": [
    {
     "name": "stderr",
     "output_type": "stream",
     "text": [
      "E:\\Anaconda\\lib\\site-packages\\sklearn\\linear_model\\_logistic.py:814: ConvergenceWarning:\n",
      "\n",
      "lbfgs failed to converge (status=1):\n",
      "STOP: TOTAL NO. of ITERATIONS REACHED LIMIT.\n",
      "\n",
      "Increase the number of iterations (max_iter) or scale the data as shown in:\n",
      "    https://scikit-learn.org/stable/modules/preprocessing.html\n",
      "Please also refer to the documentation for alternative solver options:\n",
      "    https://scikit-learn.org/stable/modules/linear_model.html#logistic-regression\n",
      "\n",
      "E:\\Anaconda\\lib\\site-packages\\sklearn\\linear_model\\_logistic.py:814: ConvergenceWarning:\n",
      "\n",
      "lbfgs failed to converge (status=1):\n",
      "STOP: TOTAL NO. of ITERATIONS REACHED LIMIT.\n",
      "\n",
      "Increase the number of iterations (max_iter) or scale the data as shown in:\n",
      "    https://scikit-learn.org/stable/modules/preprocessing.html\n",
      "Please also refer to the documentation for alternative solver options:\n",
      "    https://scikit-learn.org/stable/modules/linear_model.html#logistic-regression\n",
      "\n",
      "E:\\Anaconda\\lib\\site-packages\\sklearn\\linear_model\\_logistic.py:814: ConvergenceWarning:\n",
      "\n",
      "lbfgs failed to converge (status=1):\n",
      "STOP: TOTAL NO. of ITERATIONS REACHED LIMIT.\n",
      "\n",
      "Increase the number of iterations (max_iter) or scale the data as shown in:\n",
      "    https://scikit-learn.org/stable/modules/preprocessing.html\n",
      "Please also refer to the documentation for alternative solver options:\n",
      "    https://scikit-learn.org/stable/modules/linear_model.html#logistic-regression\n",
      "\n",
      "E:\\Anaconda\\lib\\site-packages\\sklearn\\linear_model\\_logistic.py:814: ConvergenceWarning:\n",
      "\n",
      "lbfgs failed to converge (status=1):\n",
      "STOP: TOTAL NO. of ITERATIONS REACHED LIMIT.\n",
      "\n",
      "Increase the number of iterations (max_iter) or scale the data as shown in:\n",
      "    https://scikit-learn.org/stable/modules/preprocessing.html\n",
      "Please also refer to the documentation for alternative solver options:\n",
      "    https://scikit-learn.org/stable/modules/linear_model.html#logistic-regression\n",
      "\n",
      "E:\\Anaconda\\lib\\site-packages\\sklearn\\linear_model\\_logistic.py:814: ConvergenceWarning:\n",
      "\n",
      "lbfgs failed to converge (status=1):\n",
      "STOP: TOTAL NO. of ITERATIONS REACHED LIMIT.\n",
      "\n",
      "Increase the number of iterations (max_iter) or scale the data as shown in:\n",
      "    https://scikit-learn.org/stable/modules/preprocessing.html\n",
      "Please also refer to the documentation for alternative solver options:\n",
      "    https://scikit-learn.org/stable/modules/linear_model.html#logistic-regression\n",
      "\n",
      "E:\\Anaconda\\lib\\site-packages\\sklearn\\linear_model\\_logistic.py:814: ConvergenceWarning:\n",
      "\n",
      "lbfgs failed to converge (status=1):\n",
      "STOP: TOTAL NO. of ITERATIONS REACHED LIMIT.\n",
      "\n",
      "Increase the number of iterations (max_iter) or scale the data as shown in:\n",
      "    https://scikit-learn.org/stable/modules/preprocessing.html\n",
      "Please also refer to the documentation for alternative solver options:\n",
      "    https://scikit-learn.org/stable/modules/linear_model.html#logistic-regression\n",
      "\n",
      "E:\\Anaconda\\lib\\site-packages\\sklearn\\linear_model\\_logistic.py:814: ConvergenceWarning:\n",
      "\n",
      "lbfgs failed to converge (status=1):\n",
      "STOP: TOTAL NO. of ITERATIONS REACHED LIMIT.\n",
      "\n",
      "Increase the number of iterations (max_iter) or scale the data as shown in:\n",
      "    https://scikit-learn.org/stable/modules/preprocessing.html\n",
      "Please also refer to the documentation for alternative solver options:\n",
      "    https://scikit-learn.org/stable/modules/linear_model.html#logistic-regression\n",
      "\n",
      "E:\\Anaconda\\lib\\site-packages\\sklearn\\linear_model\\_logistic.py:814: ConvergenceWarning:\n",
      "\n",
      "lbfgs failed to converge (status=1):\n",
      "STOP: TOTAL NO. of ITERATIONS REACHED LIMIT.\n",
      "\n",
      "Increase the number of iterations (max_iter) or scale the data as shown in:\n",
      "    https://scikit-learn.org/stable/modules/preprocessing.html\n",
      "Please also refer to the documentation for alternative solver options:\n",
      "    https://scikit-learn.org/stable/modules/linear_model.html#logistic-regression\n",
      "\n",
      "E:\\Anaconda\\lib\\site-packages\\sklearn\\linear_model\\_logistic.py:814: ConvergenceWarning:\n",
      "\n",
      "lbfgs failed to converge (status=1):\n",
      "STOP: TOTAL NO. of ITERATIONS REACHED LIMIT.\n",
      "\n",
      "Increase the number of iterations (max_iter) or scale the data as shown in:\n",
      "    https://scikit-learn.org/stable/modules/preprocessing.html\n",
      "Please also refer to the documentation for alternative solver options:\n",
      "    https://scikit-learn.org/stable/modules/linear_model.html#logistic-regression\n",
      "\n",
      "E:\\Anaconda\\lib\\site-packages\\sklearn\\linear_model\\_logistic.py:814: ConvergenceWarning:\n",
      "\n",
      "lbfgs failed to converge (status=1):\n",
      "STOP: TOTAL NO. of ITERATIONS REACHED LIMIT.\n",
      "\n",
      "Increase the number of iterations (max_iter) or scale the data as shown in:\n",
      "    https://scikit-learn.org/stable/modules/preprocessing.html\n",
      "Please also refer to the documentation for alternative solver options:\n",
      "    https://scikit-learn.org/stable/modules/linear_model.html#logistic-regression\n",
      "\n",
      "E:\\Anaconda\\lib\\site-packages\\sklearn\\linear_model\\_logistic.py:814: ConvergenceWarning:\n",
      "\n",
      "lbfgs failed to converge (status=1):\n",
      "STOP: TOTAL NO. of ITERATIONS REACHED LIMIT.\n",
      "\n",
      "Increase the number of iterations (max_iter) or scale the data as shown in:\n",
      "    https://scikit-learn.org/stable/modules/preprocessing.html\n",
      "Please also refer to the documentation for alternative solver options:\n",
      "    https://scikit-learn.org/stable/modules/linear_model.html#logistic-regression\n",
      "\n",
      "E:\\Anaconda\\lib\\site-packages\\sklearn\\linear_model\\_logistic.py:814: ConvergenceWarning:\n",
      "\n",
      "lbfgs failed to converge (status=1):\n",
      "STOP: TOTAL NO. of ITERATIONS REACHED LIMIT.\n",
      "\n",
      "Increase the number of iterations (max_iter) or scale the data as shown in:\n",
      "    https://scikit-learn.org/stable/modules/preprocessing.html\n",
      "Please also refer to the documentation for alternative solver options:\n",
      "    https://scikit-learn.org/stable/modules/linear_model.html#logistic-regression\n",
      "\n",
      "E:\\Anaconda\\lib\\site-packages\\sklearn\\linear_model\\_logistic.py:814: ConvergenceWarning:\n",
      "\n",
      "lbfgs failed to converge (status=1):\n",
      "STOP: TOTAL NO. of ITERATIONS REACHED LIMIT.\n",
      "\n",
      "Increase the number of iterations (max_iter) or scale the data as shown in:\n",
      "    https://scikit-learn.org/stable/modules/preprocessing.html\n",
      "Please also refer to the documentation for alternative solver options:\n",
      "    https://scikit-learn.org/stable/modules/linear_model.html#logistic-regression\n",
      "\n",
      "E:\\Anaconda\\lib\\site-packages\\sklearn\\model_selection\\_validation.py:372: FitFailedWarning:\n",
      "\n",
      "\n",
      "15 fits failed out of a total of 30.\n",
      "The score on these train-test partitions for these parameters will be set to nan.\n",
      "If these failures are not expected, you can try to debug them by setting error_score='raise'.\n",
      "\n",
      "Below are more details about the failures:\n",
      "--------------------------------------------------------------------------------\n",
      "15 fits failed with the following error:\n",
      "Traceback (most recent call last):\n",
      "  File \"E:\\Anaconda\\lib\\site-packages\\sklearn\\model_selection\\_validation.py\", line 680, in _fit_and_score\n",
      "    estimator.fit(X_train, y_train, **fit_params)\n",
      "  File \"E:\\Anaconda\\lib\\site-packages\\sklearn\\linear_model\\_logistic.py\", line 1461, in fit\n",
      "    solver = _check_solver(self.solver, self.penalty, self.dual)\n",
      "  File \"E:\\Anaconda\\lib\\site-packages\\sklearn\\linear_model\\_logistic.py\", line 447, in _check_solver\n",
      "    raise ValueError(\n",
      "ValueError: Solver lbfgs supports only 'l2' or 'none' penalties, got l1 penalty.\n",
      "\n",
      "\n",
      "E:\\Anaconda\\lib\\site-packages\\sklearn\\model_selection\\_search.py:969: UserWarning:\n",
      "\n",
      "One or more of the test scores are non-finite: [       nan 0.93716153]\n",
      "\n",
      "E:\\Anaconda\\lib\\site-packages\\sklearn\\linear_model\\_logistic.py:814: ConvergenceWarning:\n",
      "\n",
      "lbfgs failed to converge (status=1):\n",
      "STOP: TOTAL NO. of ITERATIONS REACHED LIMIT.\n",
      "\n",
      "Increase the number of iterations (max_iter) or scale the data as shown in:\n",
      "    https://scikit-learn.org/stable/modules/preprocessing.html\n",
      "Please also refer to the documentation for alternative solver options:\n",
      "    https://scikit-learn.org/stable/modules/linear_model.html#logistic-regression\n",
      "\n"
     ]
    }
   ],
   "source": [
    "parameter = {'penalty':['l1','l2']}\n",
    "grid_search = GridSearchCV(classifier2,parameter,cv=cv,scoring='accuracy')\n",
    "clf2_std = grid_search.fit(x_train_std,y_train)"
   ]
  },
  {
   "cell_type": "code",
   "execution_count": 64,
   "id": "60f2ac3b",
   "metadata": {},
   "outputs": [
    {
     "name": "stdout",
     "output_type": "stream",
     "text": [
      "0.9371615312791783\n",
      "{'penalty': 'l2'}\n",
      "0.9310344827586207\n"
     ]
    }
   ],
   "source": [
    "y_pred_clf2_std = clf2.predict(x_test_std)\n",
    "print(clf2_std.best_score_)\n",
    "print(clf2_std.best_params_)\n",
    "print(accuracy_score(y_test,y_pred_clf2_std))"
   ]
  },
  {
   "cell_type": "code",
   "execution_count": 65,
   "id": "88a51e72",
   "metadata": {},
   "outputs": [
    {
     "data": {
      "text/plain": [
       "array([[297,   0],\n",
       "       [ 22,   0]], dtype=int64)"
      ]
     },
     "execution_count": 65,
     "metadata": {},
     "output_type": "execute_result"
    }
   ],
   "source": [
    "confusion_matrix(y_test,y_pred_clf2_std)"
   ]
  },
  {
   "cell_type": "markdown",
   "id": "ff53b7e4",
   "metadata": {},
   "source": [
    "# Observation:\n",
    "With or without standarising the data score with logistic regression is same.\n",
    "Problem of false positive is still not solved with logistics regression"
   ]
  },
  {
   "cell_type": "markdown",
   "id": "c9d02fa7",
   "metadata": {},
   "source": [
    "# Model prepration\n",
    "Checking result with support vector Classifier"
   ]
  },
  {
   "cell_type": "code",
   "execution_count": 66,
   "id": "2e0e9808",
   "metadata": {},
   "outputs": [],
   "source": [
    "# Training and testing data with SVC\n",
    "classifier3 = SVC()\n",
    "parameter = {'kernel' : ['linear', 'poly', 'rbf', 'sigmoid']}\n",
    "grid_search = GridSearchCV(classifier3,parameter,cv=cv,scoring='accuracy')\n",
    "clf3 = grid_search.fit(x_train_std,y_train)"
   ]
  },
  {
   "cell_type": "code",
   "execution_count": 67,
   "id": "51e4be23",
   "metadata": {},
   "outputs": [
    {
     "name": "stdout",
     "output_type": "stream",
     "text": [
      "0.9355929038281979\n",
      "{'kernel': 'linear'}\n",
      "0.9310344827586207\n",
      "[[297   0]\n",
      " [ 22   0]]\n"
     ]
    }
   ],
   "source": [
    "y_pred_clf3 = clf3.predict(x_test_std)\n",
    "print(clf3.best_score_)\n",
    "print(clf3.best_params_)\n",
    "print(accuracy_score(y_test,y_pred_clf3))\n",
    "print(confusion_matrix(y_test,y_pred_clf3))"
   ]
  },
  {
   "cell_type": "markdown",
   "id": "b30f8f3d",
   "metadata": {},
   "source": [
    "# Observation:\n",
    "Precision problem is still not solved with SVC. Accuracy is almost same but precision rate is not improved."
   ]
  },
  {
   "cell_type": "code",
   "execution_count": 68,
   "id": "715780f8",
   "metadata": {},
   "outputs": [
    {
     "name": "stdout",
     "output_type": "stream",
     "text": [
      "0.7205128205128205\n",
      "{'kernel': 'poly'}\n",
      "0.5266457680250783\n",
      "[[159 138]\n",
      " [ 13   9]]\n"
     ]
    }
   ],
   "source": [
    "# Using Undersample dataset with svc.\n",
    "clf3_underbal = grid_search.fit(x_train_underbal,y_train_underbal)\n",
    "y_pred_clf3_underbal = clf3_underbal.predict(x_test)\n",
    "print(clf3_underbal.best_score_)\n",
    "print(clf3_underbal.best_params_)\n",
    "print(accuracy_score(y_test,y_pred_clf3_underbal))\n",
    "print(confusion_matrix(y_test,y_pred_clf3_underbal))"
   ]
  },
  {
   "cell_type": "markdown",
   "id": "993a7e1a",
   "metadata": {},
   "source": [
    "# Observation:\n",
    "Again with undersampling dataset show bias-variance tradeoff. Model is not good to use for prediction."
   ]
  },
  {
   "cell_type": "code",
   "execution_count": null,
   "id": "d2a70151",
   "metadata": {},
   "outputs": [],
   "source": [
    "# using Oversample dataset for model prediction with SVC\n",
    "clf3_overbal = grid_search.fit(x_train_overbal,y_train_overbal)\n",
    "y_pred_clf3_overbal = clf3_overbal.predict(x_test)\n",
    "print(clf3_overbal.best_score_)\n",
    "print(clf3_overbal.best_params_)\n",
    "print(accuracy_score(y_test,y_pred_clf3_overbal))\n",
    "print(confusion_matrix(y_test,y_pred_clf3_overbal))"
   ]
  },
  {
   "cell_type": "markdown",
   "id": "c273f7f9",
   "metadata": {},
   "source": [
    "# Conclusion:\n",
    "After making all possible models Random forest show the best possible result with training accuracy of 92% and\n",
    "testing accuracy of 91.5%. It maintain true positive and true negative data.\n",
    "Data is not suuficient to make model. We need more data and more information to get better result."
   ]
  },
  {
   "cell_type": "code",
   "execution_count": null,
   "id": "ada88d2d",
   "metadata": {},
   "outputs": [],
   "source": []
  }
 ],
 "metadata": {
  "kernelspec": {
   "display_name": "Python 3",
   "language": "python",
   "name": "python3"
  },
  "language_info": {
   "codemirror_mode": {
    "name": "ipython",
    "version": 3
   },
   "file_extension": ".py",
   "mimetype": "text/x-python",
   "name": "python",
   "nbconvert_exporter": "python",
   "pygments_lexer": "ipython3",
   "version": "3.8.8"
  }
 },
 "nbformat": 4,
 "nbformat_minor": 5
}
